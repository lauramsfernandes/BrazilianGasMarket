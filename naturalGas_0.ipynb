{
 "cells": [
  {
   "cell_type": "markdown",
   "metadata": {},
   "source": []
  },
  {
   "cell_type": "markdown",
   "metadata": {},
   "source": [
    " About the Repository\n",
    "\n",
    "Brazilian Government is working to open its Natural Gas Market to third-parties and tchangingsome laws regarding the fuel. \n",
    "\n",
    "This repository aims to collect data about Natural Gas in Brazil and build, in the future, a dashboard with all information gathered. "
   ]
  },
  {
   "cell_type": "markdown",
   "metadata": {},
   "source": [
    "# Business Understanding\n",
    "\n",
    "## Context\n",
    "\n",
    "Nowadays the Brazilian Natural production and transportation is controlled by Petrobras, a state-owed multinational corporation in the petroleum industry, ranked as the 120th largest company in the world by revenue². The company has 6 business areas¹ (in order of revenue):\n",
    "\n",
    "> * `Refining, transportation and marketing`\n",
    "> * `Exploration and production`\n",
    "> * `Distribution` \n",
    "> * `Gas and power` \n",
    "> * `International`\n",
    "> * `Biofuels`\n",
    "\n",
    "### Gas and Power\n",
    "\n",
    "The main core of it is deal with the transportation and trading of natural gas and LNG, and generation and trading of electric power, and the fertilizer business. \n",
    "\n",
    "Its important to mention that Petrobras also controls the distribution of oil products, ethanol, biodiesel and `natural gas` to wholesalers and through the Petrobras Distribuidora S.A. retail network in Brazil \n",
    "\n",
    "### Termination of Commitment \n",
    "\n",
    "The Administrative Council for Economic Defense (Portuguese: Conselho Administrativo de Defesa Econômica - CADE) and Petrobras signed a Term of Commitment to Terminate³ (TCC) signed due to instigations regarding alleged anti-competitive conduct by Petrobras in the Brazilian Natural Gas Market, including abuse of a dominant position and discrimination against competitors through differentiated pricing.\n",
    "\n",
    "Through the agreement, the state company is committed to sell assets related to the natural gas market. The measure aims to prevent the future occurrence of the same facts investigated by Cade, in addition to stimulating competition in the sector, so far exploited almost entirely by Petrobras, through the entry of new agents that would attract national and international investments at various levels of the chain productive.\n",
    "\n",
    "\n",
    "\n",
    "\n",
    "Source: \n",
    "\n",
    "1. [Wikipedia](https://en.wikipedia.org/wiki/Petrobras)\n",
    "\n",
    "2. [Fortune - Global 500](https://fortune.com/company/petrobras/global500/)\n",
    "\n",
    "3. [CADE](http://www.cade.gov.br/noticias/cade-e-petrobras-celebram-acordo-para-venda-de-ativos-no-mercado-de-gas-natural)"
   ]
  },
  {
   "cell_type": "code",
   "execution_count": 3,
   "metadata": {
    "tags": []
   },
   "outputs": [],
   "source": [
    "import pandas as pd\n",
    "import numpy as np\n",
    "import matplotlib.pyplot as plt\n",
    "%matplotlib inline\n",
    "import math\n",
    "import datetime\n",
    "\n",
    "from googletrans import Translator"
   ]
  },
  {
   "cell_type": "markdown",
   "metadata": {},
   "source": [
    "## Wrangling Data\n",
    "\n",
    "### Looking at the data from ANP\n",
    "\n",
    "The first step is to understand the data and know how it is stored. For that we will open the csv file and see it in its original form."
   ]
  },
  {
   "cell_type": "code",
   "execution_count": null,
   "metadata": {},
   "outputs": [],
   "source": []
  },
  {
   "cell_type": "markdown",
   "metadata": {},
   "source": [
    "<img src=\"data_set/df1-page-001.jpg\"  width=\"800\" align=\"center\">\n"
   ]
  },
  {
   "cell_type": "markdown",
   "metadata": {},
   "source": [
    "#### The subject\n",
    "\n",
    "It is a table, in Portuguese, about the production of Brazilian natural gas in million cubic meters during the years 2010-2019. This production is grouped by federation unit and followed by location. \n",
    "\n",
    "At federation unit (first) column, in addition to the gas producing states, on the top of it there is also the total and the subtotal of national production. \n",
    "\n",
    "The location can be categorized as onshore and as offshore, however the national production can also be categorized according to its geological layer, pre-salt and post-salt. \n",
    "\n",
    "The last column is the gas production ratio between 2019 and 2018.\n",
    "\n",
    "At the bottom there are the table's source and an observation saying that the total value of production includes the volumes of reinjection, burning, reduction and own consumption.\n",
    "\n",
    "#### Creating a DataFrame\n",
    "\n",
    "Pandas will be used to read a csv file and create the dataframe."
   ]
  },
  {
   "cell_type": "code",
   "execution_count": 4,
   "metadata": {},
   "outputs": [],
   "source": [
    "df = pd.read_excel(r'data_set/anuario-2020-tabela-2_30.xls',  header = [0,2,3], index_col = [0,1])"
   ]
  },
  {
   "cell_type": "markdown",
   "metadata": {},
   "source": [
    "Now lets take a look into how `df` will be displayed."
   ]
  },
  {
   "cell_type": "code",
   "execution_count": 5,
   "metadata": {},
   "outputs": [
    {
     "output_type": "execute_result",
     "data": {
      "text/plain": "Tabela 2.30 – Evolução da capacidade de processamento de gás natural, segundo polos produtores – 2010-2019 Tabela 2.30 – Evolução da capacidade de processamento de gás natural, segundo polos produtores – 2010-2019  \\\nCapacidade de processamento (mil m3/dia)1                                                                                                                                   Capacidade de processamento (mil m3/dia)1   \n2010                                                                                                                                                                                                             2011   \nTotal   76396                                                                                                                                         90396.0                                                           \n        76396                                                                                                                                             NaN                                                           \nUrucu   9706                                                                                                                                           9706.0                                                           \nLubnor  350                                                                                                                                             350.0                                                           \nGuamaré 5700                                                                                                                                           5700.0                                                           \n\nTabela 2.30 – Evolução da capacidade de processamento de gás natural, segundo polos produtores – 2010-2019           \\\nCapacidade de processamento (mil m3/dia)1                                                                             \n2010                                                                                                           2012   \nTotal   76396                                                                                               90396.0   \n        76396                                                                                                   NaN   \nUrucu   9706                                                                                                 9706.0   \nLubnor  350                                                                                                   350.0   \nGuamaré 5700                                                                                                 5700.0   \n\nTabela 2.30 – Evolução da capacidade de processamento de gás natural, segundo polos produtores – 2010-2019           \\\nCapacidade de processamento (mil m3/dia)1                                                                             \n2010                                                                                                           2013   \nTotal   76396                                                                                               90396.0   \n        76396                                                                                                   NaN   \nUrucu   9706                                                                                                 9706.0   \nLubnor  350                                                                                                   350.0   \nGuamaré 5700                                                                                                 5700.0   \n\nTabela 2.30 – Evolução da capacidade de processamento de gás natural, segundo polos produtores – 2010-2019           \\\nCapacidade de processamento (mil m3/dia)1                                                                             \n2010                                                                                                           2014   \nTotal   76396                                                                                               96390.0   \n        76396                                                                                                   NaN   \nUrucu   9706                                                                                                12200.0   \nLubnor  350                                                                                                   350.0   \nGuamaré 5700                                                                                                 5700.0   \n\nTabela 2.30 – Evolução da capacidade de processamento de gás natural, segundo polos produtores – 2010-2019           \\\nCapacidade de processamento (mil m3/dia)1                                                                             \n2010                                                                                                           2015   \nTotal   76396                                                                                               95350.0   \n        76396                                                                                                   NaN   \nUrucu   9706                                                                                                12200.0   \nLubnor  350                                                                                                   350.0   \nGuamaré 5700                                                                                                 5700.0   \n\nTabela 2.30 – Evolução da capacidade de processamento de gás natural, segundo polos produtores – 2010-2019           \\\nCapacidade de processamento (mil m3/dia)1                                                                             \n2010                                                                                                           2016   \nTotal   76396                                                                                               95650.0   \n        76396                                                                                                   NaN   \nUrucu   9706                                                                                                12200.0   \nLubnor  350                                                                                                   350.0   \nGuamaré 5700                                                                                                 5700.0   \n\nTabela 2.30 – Evolução da capacidade de processamento de gás natural, segundo polos produtores – 2010-2019           \\\nCapacidade de processamento (mil m3/dia)1                                                                             \n2010                                                                                                           2017   \nTotal   76396                                                                                               95650.0   \n        76396                                                                                                   NaN   \nUrucu   9706                                                                                                12200.0   \nLubnor  350                                                                                                   350.0   \nGuamaré 5700                                                                                                 5700.0   \n\nTabela 2.30 – Evolução da capacidade de processamento de gás natural, segundo polos produtores – 2010-2019           \\\nCapacidade de processamento (mil m3/dia)1                                                                             \n2010                                                                                                           2018   \nTotal   76396                                                                                               95650.0   \n        76396                                                                                                   NaN   \nUrucu   9706                                                                                                12200.0   \nLubnor  350                                                                                                   350.0   \nGuamaré 5700                                                                                                 5700.0   \n\nTabela 2.30 – Evolução da capacidade de processamento de gás natural, segundo polos produtores – 2010-2019            \nCapacidade de processamento (mil m3/dia)1                                                                             \n2010                                                                                                            2019  \nTotal   76396                                                                                               107210.0  \n        76396                                                                                                    NaN  \nUrucu   9706                                                                                                 12200.0  \nLubnor  350                                                                                                    350.0  \nGuamaré 5700                                                                                                  5700.0  ",
      "text/html": "<div>\n<style scoped>\n    .dataframe tbody tr th:only-of-type {\n        vertical-align: middle;\n    }\n\n    .dataframe tbody tr th {\n        vertical-align: top;\n    }\n\n    .dataframe thead tr th {\n        text-align: left;\n    }\n</style>\n<table border=\"1\" class=\"dataframe\">\n  <thead>\n    <tr>\n      <th></th>\n      <th>Tabela 2.30 – Evolução da capacidade de processamento de gás natural, segundo polos produtores – 2010-2019</th>\n      <th colspan=\"9\" halign=\"left\">Tabela 2.30 – Evolução da capacidade de processamento de gás natural, segundo polos produtores – 2010-2019</th>\n    </tr>\n    <tr>\n      <th></th>\n      <th>Capacidade de processamento (mil m3/dia)1</th>\n      <th colspan=\"9\" halign=\"left\">Capacidade de processamento (mil m3/dia)1</th>\n    </tr>\n    <tr>\n      <th></th>\n      <th>2010</th>\n      <th>2011</th>\n      <th>2012</th>\n      <th>2013</th>\n      <th>2014</th>\n      <th>2015</th>\n      <th>2016</th>\n      <th>2017</th>\n      <th>2018</th>\n      <th>2019</th>\n    </tr>\n  </thead>\n  <tbody>\n    <tr>\n      <th rowspan=\"2\" valign=\"top\">Total</th>\n      <th>76396</th>\n      <td>90396.0</td>\n      <td>90396.0</td>\n      <td>90396.0</td>\n      <td>96390.0</td>\n      <td>95350.0</td>\n      <td>95650.0</td>\n      <td>95650.0</td>\n      <td>95650.0</td>\n      <td>107210.0</td>\n    </tr>\n    <tr>\n      <th>76396</th>\n      <td>NaN</td>\n      <td>NaN</td>\n      <td>NaN</td>\n      <td>NaN</td>\n      <td>NaN</td>\n      <td>NaN</td>\n      <td>NaN</td>\n      <td>NaN</td>\n      <td>NaN</td>\n    </tr>\n    <tr>\n      <th>Urucu</th>\n      <th>9706</th>\n      <td>9706.0</td>\n      <td>9706.0</td>\n      <td>9706.0</td>\n      <td>12200.0</td>\n      <td>12200.0</td>\n      <td>12200.0</td>\n      <td>12200.0</td>\n      <td>12200.0</td>\n      <td>12200.0</td>\n    </tr>\n    <tr>\n      <th>Lubnor</th>\n      <th>350</th>\n      <td>350.0</td>\n      <td>350.0</td>\n      <td>350.0</td>\n      <td>350.0</td>\n      <td>350.0</td>\n      <td>350.0</td>\n      <td>350.0</td>\n      <td>350.0</td>\n      <td>350.0</td>\n    </tr>\n    <tr>\n      <th>Guamaré</th>\n      <th>5700</th>\n      <td>5700.0</td>\n      <td>5700.0</td>\n      <td>5700.0</td>\n      <td>5700.0</td>\n      <td>5700.0</td>\n      <td>5700.0</td>\n      <td>5700.0</td>\n      <td>5700.0</td>\n      <td>5700.0</td>\n    </tr>\n  </tbody>\n</table>\n</div>"
     },
     "metadata": {},
     "execution_count": 5
    }
   ],
   "source": [
    "df.head()"
   ]
  },
  {
   "cell_type": "markdown",
   "metadata": {},
   "source": [
    "It doesn't look good. Since the csv file is a multi-indexed table, it will be necessary to set the `head` and `index_col` parameters of the `pd.read_excel()` function, in order to make the correct indexation of the dataframe according to the original table. \n",
    "\n",
    "Looking again at the table, is easy to tell that rows `1, 3` and `4` goes for the `header` (columns labels) and the columns `A` and `B` goes for the `index_col` (index labels). It is important to notice that the parameters must be sended as index (e.g. column `A` refers to index `0`, and `B` to `1`.)"
   ]
  },
  {
   "cell_type": "markdown",
   "metadata": {},
   "source": [
    "#### Reading Dataframe as a MultiIndexed Table"
   ]
  },
  {
   "cell_type": "code",
   "execution_count": 6,
   "metadata": {},
   "outputs": [],
   "source": [
    "df = pd.read_excel(r'data_set/anuario-2020-tabela-2_30.xls',  header = [0,2,3], index_col = [0,1])\n"
   ]
  },
  {
   "cell_type": "code",
   "execution_count": 7,
   "metadata": {},
   "outputs": [
    {
     "output_type": "execute_result",
     "data": {
      "text/plain": "Tabela 2.30 – Evolução da capacidade de processamento de gás natural, segundo polos produtores – 2010-2019 Tabela 2.30 – Evolução da capacidade de processamento de gás natural, segundo polos produtores – 2010-2019  \\\nCapacidade de processamento (mil m3/dia)1                                                                                                                                   Capacidade de processamento (mil m3/dia)1   \n2010                                                                                                                                                                                                             2011   \nTotal   76396                                                                                                                                         90396.0                                                           \n        76396                                                                                                                                             NaN                                                           \nUrucu   9706                                                                                                                                           9706.0                                                           \nLubnor  350                                                                                                                                             350.0                                                           \nGuamaré 5700                                                                                                                                           5700.0                                                           \n\nTabela 2.30 – Evolução da capacidade de processamento de gás natural, segundo polos produtores – 2010-2019           \\\nCapacidade de processamento (mil m3/dia)1                                                                             \n2010                                                                                                           2012   \nTotal   76396                                                                                               90396.0   \n        76396                                                                                                   NaN   \nUrucu   9706                                                                                                 9706.0   \nLubnor  350                                                                                                   350.0   \nGuamaré 5700                                                                                                 5700.0   \n\nTabela 2.30 – Evolução da capacidade de processamento de gás natural, segundo polos produtores – 2010-2019           \\\nCapacidade de processamento (mil m3/dia)1                                                                             \n2010                                                                                                           2013   \nTotal   76396                                                                                               90396.0   \n        76396                                                                                                   NaN   \nUrucu   9706                                                                                                 9706.0   \nLubnor  350                                                                                                   350.0   \nGuamaré 5700                                                                                                 5700.0   \n\nTabela 2.30 – Evolução da capacidade de processamento de gás natural, segundo polos produtores – 2010-2019           \\\nCapacidade de processamento (mil m3/dia)1                                                                             \n2010                                                                                                           2014   \nTotal   76396                                                                                               96390.0   \n        76396                                                                                                   NaN   \nUrucu   9706                                                                                                12200.0   \nLubnor  350                                                                                                   350.0   \nGuamaré 5700                                                                                                 5700.0   \n\nTabela 2.30 – Evolução da capacidade de processamento de gás natural, segundo polos produtores – 2010-2019           \\\nCapacidade de processamento (mil m3/dia)1                                                                             \n2010                                                                                                           2015   \nTotal   76396                                                                                               95350.0   \n        76396                                                                                                   NaN   \nUrucu   9706                                                                                                12200.0   \nLubnor  350                                                                                                   350.0   \nGuamaré 5700                                                                                                 5700.0   \n\nTabela 2.30 – Evolução da capacidade de processamento de gás natural, segundo polos produtores – 2010-2019           \\\nCapacidade de processamento (mil m3/dia)1                                                                             \n2010                                                                                                           2016   \nTotal   76396                                                                                               95650.0   \n        76396                                                                                                   NaN   \nUrucu   9706                                                                                                12200.0   \nLubnor  350                                                                                                   350.0   \nGuamaré 5700                                                                                                 5700.0   \n\nTabela 2.30 – Evolução da capacidade de processamento de gás natural, segundo polos produtores – 2010-2019           \\\nCapacidade de processamento (mil m3/dia)1                                                                             \n2010                                                                                                           2017   \nTotal   76396                                                                                               95650.0   \n        76396                                                                                                   NaN   \nUrucu   9706                                                                                                12200.0   \nLubnor  350                                                                                                   350.0   \nGuamaré 5700                                                                                                 5700.0   \n\nTabela 2.30 – Evolução da capacidade de processamento de gás natural, segundo polos produtores – 2010-2019           \\\nCapacidade de processamento (mil m3/dia)1                                                                             \n2010                                                                                                           2018   \nTotal   76396                                                                                               95650.0   \n        76396                                                                                                   NaN   \nUrucu   9706                                                                                                12200.0   \nLubnor  350                                                                                                   350.0   \nGuamaré 5700                                                                                                 5700.0   \n\nTabela 2.30 – Evolução da capacidade de processamento de gás natural, segundo polos produtores – 2010-2019            \nCapacidade de processamento (mil m3/dia)1                                                                             \n2010                                                                                                            2019  \nTotal   76396                                                                                               107210.0  \n        76396                                                                                                    NaN  \nUrucu   9706                                                                                                 12200.0  \nLubnor  350                                                                                                    350.0  \nGuamaré 5700                                                                                                  5700.0  ",
      "text/html": "<div>\n<style scoped>\n    .dataframe tbody tr th:only-of-type {\n        vertical-align: middle;\n    }\n\n    .dataframe tbody tr th {\n        vertical-align: top;\n    }\n\n    .dataframe thead tr th {\n        text-align: left;\n    }\n</style>\n<table border=\"1\" class=\"dataframe\">\n  <thead>\n    <tr>\n      <th></th>\n      <th>Tabela 2.30 – Evolução da capacidade de processamento de gás natural, segundo polos produtores – 2010-2019</th>\n      <th colspan=\"9\" halign=\"left\">Tabela 2.30 – Evolução da capacidade de processamento de gás natural, segundo polos produtores – 2010-2019</th>\n    </tr>\n    <tr>\n      <th></th>\n      <th>Capacidade de processamento (mil m3/dia)1</th>\n      <th colspan=\"9\" halign=\"left\">Capacidade de processamento (mil m3/dia)1</th>\n    </tr>\n    <tr>\n      <th></th>\n      <th>2010</th>\n      <th>2011</th>\n      <th>2012</th>\n      <th>2013</th>\n      <th>2014</th>\n      <th>2015</th>\n      <th>2016</th>\n      <th>2017</th>\n      <th>2018</th>\n      <th>2019</th>\n    </tr>\n  </thead>\n  <tbody>\n    <tr>\n      <th rowspan=\"2\" valign=\"top\">Total</th>\n      <th>76396</th>\n      <td>90396.0</td>\n      <td>90396.0</td>\n      <td>90396.0</td>\n      <td>96390.0</td>\n      <td>95350.0</td>\n      <td>95650.0</td>\n      <td>95650.0</td>\n      <td>95650.0</td>\n      <td>107210.0</td>\n    </tr>\n    <tr>\n      <th>76396</th>\n      <td>NaN</td>\n      <td>NaN</td>\n      <td>NaN</td>\n      <td>NaN</td>\n      <td>NaN</td>\n      <td>NaN</td>\n      <td>NaN</td>\n      <td>NaN</td>\n      <td>NaN</td>\n    </tr>\n    <tr>\n      <th>Urucu</th>\n      <th>9706</th>\n      <td>9706.0</td>\n      <td>9706.0</td>\n      <td>9706.0</td>\n      <td>12200.0</td>\n      <td>12200.0</td>\n      <td>12200.0</td>\n      <td>12200.0</td>\n      <td>12200.0</td>\n      <td>12200.0</td>\n    </tr>\n    <tr>\n      <th>Lubnor</th>\n      <th>350</th>\n      <td>350.0</td>\n      <td>350.0</td>\n      <td>350.0</td>\n      <td>350.0</td>\n      <td>350.0</td>\n      <td>350.0</td>\n      <td>350.0</td>\n      <td>350.0</td>\n      <td>350.0</td>\n    </tr>\n    <tr>\n      <th>Guamaré</th>\n      <th>5700</th>\n      <td>5700.0</td>\n      <td>5700.0</td>\n      <td>5700.0</td>\n      <td>5700.0</td>\n      <td>5700.0</td>\n      <td>5700.0</td>\n      <td>5700.0</td>\n      <td>5700.0</td>\n      <td>5700.0</td>\n    </tr>\n  </tbody>\n</table>\n</div>"
     },
     "metadata": {},
     "execution_count": 7
    }
   ],
   "source": [
    "df.head()"
   ]
  },
  {
   "cell_type": "markdown",
   "metadata": {},
   "source": [
    "Now that we have the MultiIndexed configuration ready, we should drop all unnecessary rows and columns. \n",
    "\n",
    "In this specific table, the first two levels of column's labels can be dropped to improve its readability. But they are useful information that may need later on. So it is a good idea to keep those informations (title and unit). We also will need to translate some information to English, using `Translator()` class from `googletrans` package.\n",
    "\n",
    "#### Saving and Translating Table's Title and Unit"
   ]
  },
  {
   "cell_type": "code",
   "execution_count": 8,
   "metadata": {},
   "outputs": [],
   "source": [
    "translator = Translator()"
   ]
  },
  {
   "cell_type": "code",
   "execution_count": 9,
   "metadata": {},
   "outputs": [
    {
     "output_type": "execute_result",
     "data": {
      "text/plain": "'Table 2.30 - Evolution of natural gas processing capacity, according to producer poles - 2010-2019'"
     },
     "metadata": {},
     "execution_count": 9
    }
   ],
   "source": [
    "title = translator.translate(df.columns[0][0]).text\n",
    "title"
   ]
  },
  {
   "cell_type": "code",
   "execution_count": 10,
   "metadata": {},
   "outputs": [
    {
     "output_type": "execute_result",
     "data": {
      "text/plain": "'Processing capacity (thousand m3 / day) 1'"
     },
     "metadata": {},
     "execution_count": 10
    }
   ],
   "source": [
    "unit = translator.translate(df.columns[1][1]).text\n",
    "unit"
   ]
  },
  {
   "cell_type": "markdown",
   "metadata": {},
   "source": [
    "#### Dropping Unnecessary Rows and Columns\n",
    "\n",
    "Lets drop the two first MultiIndex level from columns.\n",
    "\n",
    "##### First Two Levels From Column MultiIndex"
   ]
  },
  {
   "cell_type": "code",
   "execution_count": 11,
   "metadata": {},
   "outputs": [],
   "source": [
    "df.columns = df.columns.droplevel(0)\n",
    "df.columns = df.columns.droplevel(0)"
   ]
  },
  {
   "cell_type": "code",
   "execution_count": 12,
   "metadata": {},
   "outputs": [
    {
     "output_type": "execute_result",
     "data": {
      "text/plain": "2010              2011     2012     2013     2014     2015     2016     2017  \\\nTotal   76396  90396.0  90396.0  90396.0  96390.0  95350.0  95650.0  95650.0   \n        76396      NaN      NaN      NaN      NaN      NaN      NaN      NaN   \nUrucu   9706    9706.0   9706.0   9706.0  12200.0  12200.0  12200.0  12200.0   \nLubnor  350      350.0    350.0    350.0    350.0    350.0    350.0    350.0   \nGuamaré 5700    5700.0   5700.0   5700.0   5700.0   5700.0   5700.0   5700.0   \n\n2010              2018      2019  \nTotal   76396  95650.0  107210.0  \n        76396      NaN       NaN  \nUrucu   9706   12200.0   12200.0  \nLubnor  350      350.0     350.0  \nGuamaré 5700    5700.0    5700.0  ",
      "text/html": "<div>\n<style scoped>\n    .dataframe tbody tr th:only-of-type {\n        vertical-align: middle;\n    }\n\n    .dataframe tbody tr th {\n        vertical-align: top;\n    }\n\n    .dataframe thead th {\n        text-align: right;\n    }\n</style>\n<table border=\"1\" class=\"dataframe\">\n  <thead>\n    <tr style=\"text-align: right;\">\n      <th></th>\n      <th>2010</th>\n      <th>2011</th>\n      <th>2012</th>\n      <th>2013</th>\n      <th>2014</th>\n      <th>2015</th>\n      <th>2016</th>\n      <th>2017</th>\n      <th>2018</th>\n      <th>2019</th>\n    </tr>\n  </thead>\n  <tbody>\n    <tr>\n      <th rowspan=\"2\" valign=\"top\">Total</th>\n      <th>76396</th>\n      <td>90396.0</td>\n      <td>90396.0</td>\n      <td>90396.0</td>\n      <td>96390.0</td>\n      <td>95350.0</td>\n      <td>95650.0</td>\n      <td>95650.0</td>\n      <td>95650.0</td>\n      <td>107210.0</td>\n    </tr>\n    <tr>\n      <th>76396</th>\n      <td>NaN</td>\n      <td>NaN</td>\n      <td>NaN</td>\n      <td>NaN</td>\n      <td>NaN</td>\n      <td>NaN</td>\n      <td>NaN</td>\n      <td>NaN</td>\n      <td>NaN</td>\n    </tr>\n    <tr>\n      <th>Urucu</th>\n      <th>9706</th>\n      <td>9706.0</td>\n      <td>9706.0</td>\n      <td>9706.0</td>\n      <td>12200.0</td>\n      <td>12200.0</td>\n      <td>12200.0</td>\n      <td>12200.0</td>\n      <td>12200.0</td>\n      <td>12200.0</td>\n    </tr>\n    <tr>\n      <th>Lubnor</th>\n      <th>350</th>\n      <td>350.0</td>\n      <td>350.0</td>\n      <td>350.0</td>\n      <td>350.0</td>\n      <td>350.0</td>\n      <td>350.0</td>\n      <td>350.0</td>\n      <td>350.0</td>\n      <td>350.0</td>\n    </tr>\n    <tr>\n      <th>Guamaré</th>\n      <th>5700</th>\n      <td>5700.0</td>\n      <td>5700.0</td>\n      <td>5700.0</td>\n      <td>5700.0</td>\n      <td>5700.0</td>\n      <td>5700.0</td>\n      <td>5700.0</td>\n      <td>5700.0</td>\n      <td>5700.0</td>\n    </tr>\n  </tbody>\n</table>\n</div>"
     },
     "metadata": {},
     "execution_count": 12
    }
   ],
   "source": [
    "df.head()"
   ]
  },
  {
   "cell_type": "markdown",
   "metadata": {},
   "source": [
    "##### NaN Rows and Columns\n",
    "\n",
    "Now lets get rid off all NaN rows and columns."
   ]
  },
  {
   "cell_type": "code",
   "execution_count": 13,
   "metadata": {},
   "outputs": [
    {
     "output_type": "execute_result",
     "data": {
      "text/plain": "2010                                2011     2012     2013     2014     2015  \\\nTotal                     76396  90396.0  90396.0  90396.0  96390.0  95350.0   \nUrucu                     9706    9706.0   9706.0   9706.0  12200.0  12200.0   \nLubnor                    350      350.0    350.0    350.0    350.0    350.0   \nGuamaré                   5700    5700.0   5700.0   5700.0   5700.0   5700.0   \nPilar                     1800    1800.0   1800.0   1800.0   1800.0   1800.0   \nAtalaia                   3000    3000.0   3000.0   3000.0   3000.0   3000.0   \nCandeias                  2900    2900.0   2900.0   2900.0   2900.0   2900.0   \nSantiago²                 4400    4400.0   4400.0   4400.0   1900.0   1900.0   \nEstação Vandemir Ferreira 6000    6000.0   6000.0   6000.0   6000.0   6000.0   \nCacimbas                  16000  16000.0  16000.0  16000.0  16000.0  16000.0   \nSul Capixaba              2500    2500.0   2500.0   2500.0   2500.0   2500.0   \nReduc                     4500    4500.0   4500.0   4500.0   4500.0   4500.0   \nCabiúnas                  17240  17240.0  17240.0  17240.0  17240.0  16200.0   \nRPBC                      2300    2300.0   2300.0   2300.0   2300.0   2300.0   \nCaraguatatuba             0      14000.0  14000.0  14000.0  20000.0  20000.0   \n\n2010                                2016     2017     2018      2019  \nTotal                     76396  95650.0  95650.0  95650.0  107210.0  \nUrucu                     9706   12200.0  12200.0  12200.0   12200.0  \nLubnor                    350      350.0    350.0    350.0     350.0  \nGuamaré                   5700    5700.0   5700.0   5700.0    5700.0  \nPilar                     1800    1800.0   1800.0   1800.0    1800.0  \nAtalaia                   3000    3000.0   3000.0   3000.0    3000.0  \nCandeias                  2900    2900.0   2900.0   2900.0    2900.0  \nSantiago²                 4400    2000.0   2000.0   2000.0    2000.0  \nEstação Vandemir Ferreira 6000    6000.0   6000.0   6000.0    6000.0  \nCacimbas                  16000  16000.0  16000.0  16000.0   18100.0  \nSul Capixaba              2500    2500.0   2500.0   2500.0    2500.0  \nReduc                     4500    5000.0   5000.0   5000.0    5000.0  \nCabiúnas                  17240  15900.0  15900.0  15900.0   25160.0  \nRPBC                      2300    2300.0   2300.0   2300.0    2500.0  \nCaraguatatuba             0      20000.0  20000.0  20000.0   20000.0  ",
      "text/html": "<div>\n<style scoped>\n    .dataframe tbody tr th:only-of-type {\n        vertical-align: middle;\n    }\n\n    .dataframe tbody tr th {\n        vertical-align: top;\n    }\n\n    .dataframe thead th {\n        text-align: right;\n    }\n</style>\n<table border=\"1\" class=\"dataframe\">\n  <thead>\n    <tr style=\"text-align: right;\">\n      <th></th>\n      <th>2010</th>\n      <th>2011</th>\n      <th>2012</th>\n      <th>2013</th>\n      <th>2014</th>\n      <th>2015</th>\n      <th>2016</th>\n      <th>2017</th>\n      <th>2018</th>\n      <th>2019</th>\n    </tr>\n  </thead>\n  <tbody>\n    <tr>\n      <th>Total</th>\n      <th>76396</th>\n      <td>90396.0</td>\n      <td>90396.0</td>\n      <td>90396.0</td>\n      <td>96390.0</td>\n      <td>95350.0</td>\n      <td>95650.0</td>\n      <td>95650.0</td>\n      <td>95650.0</td>\n      <td>107210.0</td>\n    </tr>\n    <tr>\n      <th>Urucu</th>\n      <th>9706</th>\n      <td>9706.0</td>\n      <td>9706.0</td>\n      <td>9706.0</td>\n      <td>12200.0</td>\n      <td>12200.0</td>\n      <td>12200.0</td>\n      <td>12200.0</td>\n      <td>12200.0</td>\n      <td>12200.0</td>\n    </tr>\n    <tr>\n      <th>Lubnor</th>\n      <th>350</th>\n      <td>350.0</td>\n      <td>350.0</td>\n      <td>350.0</td>\n      <td>350.0</td>\n      <td>350.0</td>\n      <td>350.0</td>\n      <td>350.0</td>\n      <td>350.0</td>\n      <td>350.0</td>\n    </tr>\n    <tr>\n      <th>Guamaré</th>\n      <th>5700</th>\n      <td>5700.0</td>\n      <td>5700.0</td>\n      <td>5700.0</td>\n      <td>5700.0</td>\n      <td>5700.0</td>\n      <td>5700.0</td>\n      <td>5700.0</td>\n      <td>5700.0</td>\n      <td>5700.0</td>\n    </tr>\n    <tr>\n      <th>Pilar</th>\n      <th>1800</th>\n      <td>1800.0</td>\n      <td>1800.0</td>\n      <td>1800.0</td>\n      <td>1800.0</td>\n      <td>1800.0</td>\n      <td>1800.0</td>\n      <td>1800.0</td>\n      <td>1800.0</td>\n      <td>1800.0</td>\n    </tr>\n    <tr>\n      <th>Atalaia</th>\n      <th>3000</th>\n      <td>3000.0</td>\n      <td>3000.0</td>\n      <td>3000.0</td>\n      <td>3000.0</td>\n      <td>3000.0</td>\n      <td>3000.0</td>\n      <td>3000.0</td>\n      <td>3000.0</td>\n      <td>3000.0</td>\n    </tr>\n    <tr>\n      <th>Candeias</th>\n      <th>2900</th>\n      <td>2900.0</td>\n      <td>2900.0</td>\n      <td>2900.0</td>\n      <td>2900.0</td>\n      <td>2900.0</td>\n      <td>2900.0</td>\n      <td>2900.0</td>\n      <td>2900.0</td>\n      <td>2900.0</td>\n    </tr>\n    <tr>\n      <th>Santiago²</th>\n      <th>4400</th>\n      <td>4400.0</td>\n      <td>4400.0</td>\n      <td>4400.0</td>\n      <td>1900.0</td>\n      <td>1900.0</td>\n      <td>2000.0</td>\n      <td>2000.0</td>\n      <td>2000.0</td>\n      <td>2000.0</td>\n    </tr>\n    <tr>\n      <th>Estação Vandemir Ferreira</th>\n      <th>6000</th>\n      <td>6000.0</td>\n      <td>6000.0</td>\n      <td>6000.0</td>\n      <td>6000.0</td>\n      <td>6000.0</td>\n      <td>6000.0</td>\n      <td>6000.0</td>\n      <td>6000.0</td>\n      <td>6000.0</td>\n    </tr>\n    <tr>\n      <th>Cacimbas</th>\n      <th>16000</th>\n      <td>16000.0</td>\n      <td>16000.0</td>\n      <td>16000.0</td>\n      <td>16000.0</td>\n      <td>16000.0</td>\n      <td>16000.0</td>\n      <td>16000.0</td>\n      <td>16000.0</td>\n      <td>18100.0</td>\n    </tr>\n    <tr>\n      <th>Sul Capixaba</th>\n      <th>2500</th>\n      <td>2500.0</td>\n      <td>2500.0</td>\n      <td>2500.0</td>\n      <td>2500.0</td>\n      <td>2500.0</td>\n      <td>2500.0</td>\n      <td>2500.0</td>\n      <td>2500.0</td>\n      <td>2500.0</td>\n    </tr>\n    <tr>\n      <th>Reduc</th>\n      <th>4500</th>\n      <td>4500.0</td>\n      <td>4500.0</td>\n      <td>4500.0</td>\n      <td>4500.0</td>\n      <td>4500.0</td>\n      <td>5000.0</td>\n      <td>5000.0</td>\n      <td>5000.0</td>\n      <td>5000.0</td>\n    </tr>\n    <tr>\n      <th>Cabiúnas</th>\n      <th>17240</th>\n      <td>17240.0</td>\n      <td>17240.0</td>\n      <td>17240.0</td>\n      <td>17240.0</td>\n      <td>16200.0</td>\n      <td>15900.0</td>\n      <td>15900.0</td>\n      <td>15900.0</td>\n      <td>25160.0</td>\n    </tr>\n    <tr>\n      <th>RPBC</th>\n      <th>2300</th>\n      <td>2300.0</td>\n      <td>2300.0</td>\n      <td>2300.0</td>\n      <td>2300.0</td>\n      <td>2300.0</td>\n      <td>2300.0</td>\n      <td>2300.0</td>\n      <td>2300.0</td>\n      <td>2500.0</td>\n    </tr>\n    <tr>\n      <th>Caraguatatuba</th>\n      <th>0</th>\n      <td>14000.0</td>\n      <td>14000.0</td>\n      <td>14000.0</td>\n      <td>20000.0</td>\n      <td>20000.0</td>\n      <td>20000.0</td>\n      <td>20000.0</td>\n      <td>20000.0</td>\n      <td>20000.0</td>\n    </tr>\n  </tbody>\n</table>\n</div>"
     },
     "metadata": {},
     "execution_count": 13
    }
   ],
   "source": [
    "df.dropna(how = 'all', inplace = True)\n",
    "df.dropna(axis=1, how = 'all', inplace = True)\n",
    "df"
   ]
  },
  {
   "cell_type": "markdown",
   "metadata": {},
   "source": [
    "##### Ratio Column\n",
    "\n",
    "The last column is the ratio of gas production between 2018 and 2019. We can get this data with basic coding, so lets drop it."
   ]
  },
  {
   "cell_type": "code",
   "execution_count": 14,
   "metadata": {},
   "outputs": [
    {
     "output_type": "execute_result",
     "data": {
      "text/plain": "2010                                2011     2012     2013     2014     2015  \\\nTotal                     76396  90396.0  90396.0  90396.0  96390.0  95350.0   \nUrucu                     9706    9706.0   9706.0   9706.0  12200.0  12200.0   \nLubnor                    350      350.0    350.0    350.0    350.0    350.0   \nGuamaré                   5700    5700.0   5700.0   5700.0   5700.0   5700.0   \nPilar                     1800    1800.0   1800.0   1800.0   1800.0   1800.0   \nAtalaia                   3000    3000.0   3000.0   3000.0   3000.0   3000.0   \nCandeias                  2900    2900.0   2900.0   2900.0   2900.0   2900.0   \nSantiago²                 4400    4400.0   4400.0   4400.0   1900.0   1900.0   \nEstação Vandemir Ferreira 6000    6000.0   6000.0   6000.0   6000.0   6000.0   \nCacimbas                  16000  16000.0  16000.0  16000.0  16000.0  16000.0   \nSul Capixaba              2500    2500.0   2500.0   2500.0   2500.0   2500.0   \nReduc                     4500    4500.0   4500.0   4500.0   4500.0   4500.0   \nCabiúnas                  17240  17240.0  17240.0  17240.0  17240.0  16200.0   \nRPBC                      2300    2300.0   2300.0   2300.0   2300.0   2300.0   \nCaraguatatuba             0      14000.0  14000.0  14000.0  20000.0  20000.0   \n\n2010                                2016     2017     2018      2019  \nTotal                     76396  95650.0  95650.0  95650.0  107210.0  \nUrucu                     9706   12200.0  12200.0  12200.0   12200.0  \nLubnor                    350      350.0    350.0    350.0     350.0  \nGuamaré                   5700    5700.0   5700.0   5700.0    5700.0  \nPilar                     1800    1800.0   1800.0   1800.0    1800.0  \nAtalaia                   3000    3000.0   3000.0   3000.0    3000.0  \nCandeias                  2900    2900.0   2900.0   2900.0    2900.0  \nSantiago²                 4400    2000.0   2000.0   2000.0    2000.0  \nEstação Vandemir Ferreira 6000    6000.0   6000.0   6000.0    6000.0  \nCacimbas                  16000  16000.0  16000.0  16000.0   18100.0  \nSul Capixaba              2500    2500.0   2500.0   2500.0    2500.0  \nReduc                     4500    5000.0   5000.0   5000.0    5000.0  \nCabiúnas                  17240  15900.0  15900.0  15900.0   25160.0  \nRPBC                      2300    2300.0   2300.0   2300.0    2500.0  \nCaraguatatuba             0      20000.0  20000.0  20000.0   20000.0  ",
      "text/html": "<div>\n<style scoped>\n    .dataframe tbody tr th:only-of-type {\n        vertical-align: middle;\n    }\n\n    .dataframe tbody tr th {\n        vertical-align: top;\n    }\n\n    .dataframe thead th {\n        text-align: right;\n    }\n</style>\n<table border=\"1\" class=\"dataframe\">\n  <thead>\n    <tr style=\"text-align: right;\">\n      <th></th>\n      <th>2010</th>\n      <th>2011</th>\n      <th>2012</th>\n      <th>2013</th>\n      <th>2014</th>\n      <th>2015</th>\n      <th>2016</th>\n      <th>2017</th>\n      <th>2018</th>\n      <th>2019</th>\n    </tr>\n  </thead>\n  <tbody>\n    <tr>\n      <th>Total</th>\n      <th>76396</th>\n      <td>90396.0</td>\n      <td>90396.0</td>\n      <td>90396.0</td>\n      <td>96390.0</td>\n      <td>95350.0</td>\n      <td>95650.0</td>\n      <td>95650.0</td>\n      <td>95650.0</td>\n      <td>107210.0</td>\n    </tr>\n    <tr>\n      <th>Urucu</th>\n      <th>9706</th>\n      <td>9706.0</td>\n      <td>9706.0</td>\n      <td>9706.0</td>\n      <td>12200.0</td>\n      <td>12200.0</td>\n      <td>12200.0</td>\n      <td>12200.0</td>\n      <td>12200.0</td>\n      <td>12200.0</td>\n    </tr>\n    <tr>\n      <th>Lubnor</th>\n      <th>350</th>\n      <td>350.0</td>\n      <td>350.0</td>\n      <td>350.0</td>\n      <td>350.0</td>\n      <td>350.0</td>\n      <td>350.0</td>\n      <td>350.0</td>\n      <td>350.0</td>\n      <td>350.0</td>\n    </tr>\n    <tr>\n      <th>Guamaré</th>\n      <th>5700</th>\n      <td>5700.0</td>\n      <td>5700.0</td>\n      <td>5700.0</td>\n      <td>5700.0</td>\n      <td>5700.0</td>\n      <td>5700.0</td>\n      <td>5700.0</td>\n      <td>5700.0</td>\n      <td>5700.0</td>\n    </tr>\n    <tr>\n      <th>Pilar</th>\n      <th>1800</th>\n      <td>1800.0</td>\n      <td>1800.0</td>\n      <td>1800.0</td>\n      <td>1800.0</td>\n      <td>1800.0</td>\n      <td>1800.0</td>\n      <td>1800.0</td>\n      <td>1800.0</td>\n      <td>1800.0</td>\n    </tr>\n    <tr>\n      <th>Atalaia</th>\n      <th>3000</th>\n      <td>3000.0</td>\n      <td>3000.0</td>\n      <td>3000.0</td>\n      <td>3000.0</td>\n      <td>3000.0</td>\n      <td>3000.0</td>\n      <td>3000.0</td>\n      <td>3000.0</td>\n      <td>3000.0</td>\n    </tr>\n    <tr>\n      <th>Candeias</th>\n      <th>2900</th>\n      <td>2900.0</td>\n      <td>2900.0</td>\n      <td>2900.0</td>\n      <td>2900.0</td>\n      <td>2900.0</td>\n      <td>2900.0</td>\n      <td>2900.0</td>\n      <td>2900.0</td>\n      <td>2900.0</td>\n    </tr>\n    <tr>\n      <th>Santiago²</th>\n      <th>4400</th>\n      <td>4400.0</td>\n      <td>4400.0</td>\n      <td>4400.0</td>\n      <td>1900.0</td>\n      <td>1900.0</td>\n      <td>2000.0</td>\n      <td>2000.0</td>\n      <td>2000.0</td>\n      <td>2000.0</td>\n    </tr>\n    <tr>\n      <th>Estação Vandemir Ferreira</th>\n      <th>6000</th>\n      <td>6000.0</td>\n      <td>6000.0</td>\n      <td>6000.0</td>\n      <td>6000.0</td>\n      <td>6000.0</td>\n      <td>6000.0</td>\n      <td>6000.0</td>\n      <td>6000.0</td>\n      <td>6000.0</td>\n    </tr>\n    <tr>\n      <th>Cacimbas</th>\n      <th>16000</th>\n      <td>16000.0</td>\n      <td>16000.0</td>\n      <td>16000.0</td>\n      <td>16000.0</td>\n      <td>16000.0</td>\n      <td>16000.0</td>\n      <td>16000.0</td>\n      <td>16000.0</td>\n      <td>18100.0</td>\n    </tr>\n    <tr>\n      <th>Sul Capixaba</th>\n      <th>2500</th>\n      <td>2500.0</td>\n      <td>2500.0</td>\n      <td>2500.0</td>\n      <td>2500.0</td>\n      <td>2500.0</td>\n      <td>2500.0</td>\n      <td>2500.0</td>\n      <td>2500.0</td>\n      <td>2500.0</td>\n    </tr>\n    <tr>\n      <th>Reduc</th>\n      <th>4500</th>\n      <td>4500.0</td>\n      <td>4500.0</td>\n      <td>4500.0</td>\n      <td>4500.0</td>\n      <td>4500.0</td>\n      <td>5000.0</td>\n      <td>5000.0</td>\n      <td>5000.0</td>\n      <td>5000.0</td>\n    </tr>\n    <tr>\n      <th>Cabiúnas</th>\n      <th>17240</th>\n      <td>17240.0</td>\n      <td>17240.0</td>\n      <td>17240.0</td>\n      <td>17240.0</td>\n      <td>16200.0</td>\n      <td>15900.0</td>\n      <td>15900.0</td>\n      <td>15900.0</td>\n      <td>25160.0</td>\n    </tr>\n    <tr>\n      <th>RPBC</th>\n      <th>2300</th>\n      <td>2300.0</td>\n      <td>2300.0</td>\n      <td>2300.0</td>\n      <td>2300.0</td>\n      <td>2300.0</td>\n      <td>2300.0</td>\n      <td>2300.0</td>\n      <td>2300.0</td>\n      <td>2500.0</td>\n    </tr>\n    <tr>\n      <th>Caraguatatuba</th>\n      <th>0</th>\n      <td>14000.0</td>\n      <td>14000.0</td>\n      <td>14000.0</td>\n      <td>20000.0</td>\n      <td>20000.0</td>\n      <td>20000.0</td>\n      <td>20000.0</td>\n      <td>20000.0</td>\n      <td>20000.0</td>\n    </tr>\n  </tbody>\n</table>\n</div>"
     },
     "metadata": {},
     "execution_count": 14
    }
   ],
   "source": [
    "if (df.iloc[:,-1].replace('..', 0).round().all() == (((df.iloc[:,-2]-df.iloc[:,-3])/df.iloc[:,-3])*100).round().all()):\n",
    "    df = df.drop(df.columns[-1], axis=1)\n",
    "    \n",
    "df"
   ]
  },
  {
   "cell_type": "markdown",
   "metadata": {},
   "source": [
    "#### Correcting Index Labels\n",
    "\n",
    "Now we need to correct the index's labels. \n",
    "\n",
    "As you can see, some of table are in Portuguese so we need to be able to translate from Portuguese to English, if is necessary."
   ]
  },
  {
   "cell_type": "markdown",
   "metadata": {},
   "source": [
    "##### Translating Index Labels"
   ]
  },
  {
   "cell_type": "code",
   "execution_count": 15,
   "metadata": {},
   "outputs": [],
   "source": [
    "if df.index.nlevels > 1:\n",
    "    \n",
    "    for i, num in enumerate(df.index):\n",
    "        for j in range(df.index.nlevels):\n",
    "            if j==0:\n",
    "                if (df.index[i][j] == 'Espírito_Santo') or (df.index[i][j] == 'Espirito_Santo'):\n",
    "                    df.index = df.index.set_levels(df.index.levels[j].str.replace('Espírito_Santo','Espirito_Santo'), level = j)\n",
    "                elif df.index[i][j] == 'Amazonas':\n",
    "                    df.index = df.index.set_levels(df.index.levels[j].str.replace('Amazonas','Amazonas'), level = j)\n",
    "                elif df.index[i][j] == 'Alagoas':\n",
    "                    df.index = df.index.set_levels(df.index.levels[j].str.replace('Alagoas','Alagoas'), level = j)\n",
    "                elif (df.index[i][j] == 'Ceará') or (df.index[i][j] == 'Ceara'):\n",
    "                    df.index = df.index.set_levels(df.index.levels[j].str.replace('Ceará','Ceara'), level = j)\n",
    "                elif (df.index[i][j] == 'Rio Grande do Norte') or (df.index[i][j] == 'Rio_Grande_do_Norte'):\n",
    "                    df.index = df.index.set_levels(df.index.levels[j].str.replace(' ','_'), level = j)\n",
    "                else:\n",
    "                    df.index = df.index.set_levels(df.index.levels[j].str.replace(df.index[i][j], translator.translate(df.index[i][j]).text), level = j)\n",
    "            if j==1:\n",
    "                if df.index[i][j] == 'Mar': # checks if one of the words that the translate package can not translate\n",
    "                    df.index = df.index.set_levels(df.index.levels[j].str.replace('Mar','Offshore'), level = j)\n",
    "                elif df.index[i][j] == 'Terra': # checks if one of the words that the translate package can not translate\n",
    "                    df.index = df.index.set_levels(df.index.levels[j].str.replace('Terra','Onshore'), level = j)\n",
    "                elif not isinstance(df.index[i][j], str):\n",
    "                    pass\n",
    "                else:\n",
    "                    df.index = df.index.set_levels(df.index.levels[j].str.replace(df.index[i][j], translator.translate(df.index[i][j]).text), level = j)\n",
    "                    \n",
    "elif df.index.nlevels == 1:\n",
    "    new_index = []\n",
    "    for index in df.index:\n",
    "        if index == 'Reinjeção':\n",
    "            new_index.append('Reinjection')\n",
    "        else:\n",
    "            new_index.append(translator.translate(index).text)\n",
    "    df.index = new_index"
   ]
  },
  {
   "cell_type": "code",
   "execution_count": 16,
   "metadata": {},
   "outputs": [],
   "source": [
    "if df.index.nlevels == 1:\n",
    "    new_index = []\n",
    "    for index in df.index:\n",
    "        if index == 'Reinjeção':\n",
    "            new_index.append('Reinjection')\n",
    "        else:\n",
    "            new_index.append(translator.translate(index).text)\n",
    "    df.index = new_index"
   ]
  },
  {
   "cell_type": "code",
   "execution_count": 17,
   "metadata": {},
   "outputs": [
    {
     "output_type": "execute_result",
     "data": {
      "text/plain": "2010                                2011     2012     2013     2014     2015  \\\nTotal                     76396  90396.0  90396.0  90396.0  96390.0  95350.0   \nUrucu                     9706    9706.0   9706.0   9706.0  12200.0  12200.0   \nLubnor                    350      350.0    350.0    350.0    350.0    350.0   \nGuamaré                   5700    5700.0   5700.0   5700.0   5700.0   5700.0   \nPilar                     1800    1800.0   1800.0   1800.0   1800.0   1800.0   \nAtalaia                   3000    3000.0   3000.0   3000.0   3000.0   3000.0   \nCandles                   2900    2900.0   2900.0   2900.0   2900.0   2900.0   \nSantiago²                 4400    4400.0   4400.0   4400.0   1900.0   1900.0   \nVandemir Ferreira Station 6000    6000.0   6000.0   6000.0   6000.0   6000.0   \nCacimbas                  16000  16000.0  16000.0  16000.0  16000.0  16000.0   \nSul Capixaba              2500    2500.0   2500.0   2500.0   2500.0   2500.0   \nreduce                    4500    4500.0   4500.0   4500.0   4500.0   4500.0   \nCabiúnas                  17240  17240.0  17240.0  17240.0  17240.0  16200.0   \nRPBC                      2300    2300.0   2300.0   2300.0   2300.0   2300.0   \nCaraguatatuba             0      14000.0  14000.0  14000.0  20000.0  20000.0   \n\n2010                                2016     2017     2018      2019  \nTotal                     76396  95650.0  95650.0  95650.0  107210.0  \nUrucu                     9706   12200.0  12200.0  12200.0   12200.0  \nLubnor                    350      350.0    350.0    350.0     350.0  \nGuamaré                   5700    5700.0   5700.0   5700.0    5700.0  \nPilar                     1800    1800.0   1800.0   1800.0    1800.0  \nAtalaia                   3000    3000.0   3000.0   3000.0    3000.0  \nCandles                   2900    2900.0   2900.0   2900.0    2900.0  \nSantiago²                 4400    2000.0   2000.0   2000.0    2000.0  \nVandemir Ferreira Station 6000    6000.0   6000.0   6000.0    6000.0  \nCacimbas                  16000  16000.0  16000.0  16000.0   18100.0  \nSul Capixaba              2500    2500.0   2500.0   2500.0    2500.0  \nreduce                    4500    5000.0   5000.0   5000.0    5000.0  \nCabiúnas                  17240  15900.0  15900.0  15900.0   25160.0  \nRPBC                      2300    2300.0   2300.0   2300.0    2500.0  \nCaraguatatuba             0      20000.0  20000.0  20000.0   20000.0  ",
      "text/html": "<div>\n<style scoped>\n    .dataframe tbody tr th:only-of-type {\n        vertical-align: middle;\n    }\n\n    .dataframe tbody tr th {\n        vertical-align: top;\n    }\n\n    .dataframe thead th {\n        text-align: right;\n    }\n</style>\n<table border=\"1\" class=\"dataframe\">\n  <thead>\n    <tr style=\"text-align: right;\">\n      <th></th>\n      <th>2010</th>\n      <th>2011</th>\n      <th>2012</th>\n      <th>2013</th>\n      <th>2014</th>\n      <th>2015</th>\n      <th>2016</th>\n      <th>2017</th>\n      <th>2018</th>\n      <th>2019</th>\n    </tr>\n  </thead>\n  <tbody>\n    <tr>\n      <th>Total</th>\n      <th>76396</th>\n      <td>90396.0</td>\n      <td>90396.0</td>\n      <td>90396.0</td>\n      <td>96390.0</td>\n      <td>95350.0</td>\n      <td>95650.0</td>\n      <td>95650.0</td>\n      <td>95650.0</td>\n      <td>107210.0</td>\n    </tr>\n    <tr>\n      <th>Urucu</th>\n      <th>9706</th>\n      <td>9706.0</td>\n      <td>9706.0</td>\n      <td>9706.0</td>\n      <td>12200.0</td>\n      <td>12200.0</td>\n      <td>12200.0</td>\n      <td>12200.0</td>\n      <td>12200.0</td>\n      <td>12200.0</td>\n    </tr>\n    <tr>\n      <th>Lubnor</th>\n      <th>350</th>\n      <td>350.0</td>\n      <td>350.0</td>\n      <td>350.0</td>\n      <td>350.0</td>\n      <td>350.0</td>\n      <td>350.0</td>\n      <td>350.0</td>\n      <td>350.0</td>\n      <td>350.0</td>\n    </tr>\n    <tr>\n      <th>Guamaré</th>\n      <th>5700</th>\n      <td>5700.0</td>\n      <td>5700.0</td>\n      <td>5700.0</td>\n      <td>5700.0</td>\n      <td>5700.0</td>\n      <td>5700.0</td>\n      <td>5700.0</td>\n      <td>5700.0</td>\n      <td>5700.0</td>\n    </tr>\n    <tr>\n      <th>Pilar</th>\n      <th>1800</th>\n      <td>1800.0</td>\n      <td>1800.0</td>\n      <td>1800.0</td>\n      <td>1800.0</td>\n      <td>1800.0</td>\n      <td>1800.0</td>\n      <td>1800.0</td>\n      <td>1800.0</td>\n      <td>1800.0</td>\n    </tr>\n    <tr>\n      <th>Atalaia</th>\n      <th>3000</th>\n      <td>3000.0</td>\n      <td>3000.0</td>\n      <td>3000.0</td>\n      <td>3000.0</td>\n      <td>3000.0</td>\n      <td>3000.0</td>\n      <td>3000.0</td>\n      <td>3000.0</td>\n      <td>3000.0</td>\n    </tr>\n    <tr>\n      <th>Candles</th>\n      <th>2900</th>\n      <td>2900.0</td>\n      <td>2900.0</td>\n      <td>2900.0</td>\n      <td>2900.0</td>\n      <td>2900.0</td>\n      <td>2900.0</td>\n      <td>2900.0</td>\n      <td>2900.0</td>\n      <td>2900.0</td>\n    </tr>\n    <tr>\n      <th>Santiago²</th>\n      <th>4400</th>\n      <td>4400.0</td>\n      <td>4400.0</td>\n      <td>4400.0</td>\n      <td>1900.0</td>\n      <td>1900.0</td>\n      <td>2000.0</td>\n      <td>2000.0</td>\n      <td>2000.0</td>\n      <td>2000.0</td>\n    </tr>\n    <tr>\n      <th>Vandemir Ferreira Station</th>\n      <th>6000</th>\n      <td>6000.0</td>\n      <td>6000.0</td>\n      <td>6000.0</td>\n      <td>6000.0</td>\n      <td>6000.0</td>\n      <td>6000.0</td>\n      <td>6000.0</td>\n      <td>6000.0</td>\n      <td>6000.0</td>\n    </tr>\n    <tr>\n      <th>Cacimbas</th>\n      <th>16000</th>\n      <td>16000.0</td>\n      <td>16000.0</td>\n      <td>16000.0</td>\n      <td>16000.0</td>\n      <td>16000.0</td>\n      <td>16000.0</td>\n      <td>16000.0</td>\n      <td>16000.0</td>\n      <td>18100.0</td>\n    </tr>\n    <tr>\n      <th>Sul Capixaba</th>\n      <th>2500</th>\n      <td>2500.0</td>\n      <td>2500.0</td>\n      <td>2500.0</td>\n      <td>2500.0</td>\n      <td>2500.0</td>\n      <td>2500.0</td>\n      <td>2500.0</td>\n      <td>2500.0</td>\n      <td>2500.0</td>\n    </tr>\n    <tr>\n      <th>reduce</th>\n      <th>4500</th>\n      <td>4500.0</td>\n      <td>4500.0</td>\n      <td>4500.0</td>\n      <td>4500.0</td>\n      <td>4500.0</td>\n      <td>5000.0</td>\n      <td>5000.0</td>\n      <td>5000.0</td>\n      <td>5000.0</td>\n    </tr>\n    <tr>\n      <th>Cabiúnas</th>\n      <th>17240</th>\n      <td>17240.0</td>\n      <td>17240.0</td>\n      <td>17240.0</td>\n      <td>17240.0</td>\n      <td>16200.0</td>\n      <td>15900.0</td>\n      <td>15900.0</td>\n      <td>15900.0</td>\n      <td>25160.0</td>\n    </tr>\n    <tr>\n      <th>RPBC</th>\n      <th>2300</th>\n      <td>2300.0</td>\n      <td>2300.0</td>\n      <td>2300.0</td>\n      <td>2300.0</td>\n      <td>2300.0</td>\n      <td>2300.0</td>\n      <td>2300.0</td>\n      <td>2300.0</td>\n      <td>2500.0</td>\n    </tr>\n    <tr>\n      <th>Caraguatatuba</th>\n      <th>0</th>\n      <td>14000.0</td>\n      <td>14000.0</td>\n      <td>14000.0</td>\n      <td>20000.0</td>\n      <td>20000.0</td>\n      <td>20000.0</td>\n      <td>20000.0</td>\n      <td>20000.0</td>\n      <td>20000.0</td>\n    </tr>\n  </tbody>\n</table>\n</div>"
     },
     "metadata": {},
     "execution_count": 17
    }
   ],
   "source": [
    "df"
   ]
  },
  {
   "cell_type": "markdown",
   "metadata": {},
   "source": [
    "##### MyDataFrame Class\n",
    "\n",
    "In order to capture and simplify access to some important informations *(e.g. title, unit)* about the tables collected, and to assembly all functions as methods in a the same place, a class was created. `MyDataFrame` class also perfomes some changes into the original tables to improve their readability and to translate some terms.\n",
    "\n",
    "Parameters:\n",
    "\n",
    ">`df`: is a csv file readed by pd.read_csv function.\n",
    "\n",
    ">`translate`: is a boolean that calls the translate method.\n",
    "\n",
    ">`translate_first_level`: is a boolean that says if the first level of a MultiIndex DataFrame should be translated or not, since some of them are proper noun and should not be translated.\n",
    "\n",
    ">`white_space`: is a boolean that replace white space for underscore in all indexes, in case of using loc function.\n",
    "\n",
    ">`drop_level`: is a boolean that calls the drop_levels method and drops column levels from a MultiIndex DataFrame until becames a Index DataFrame.\n",
    "\n",
    "\n",
    "        self.translator = Translator()\n",
    "        self.title = ''\n",
    "        self.unit = ''\n",
    "        self.footer = ''\n",
    "        self.translate = translate\n",
    "        self.translate_first_level = translate_first_level\n",
    "        self.white_space= white_space\n",
    "        self.drop_level = drop_level\n",
    "\n",
    "\n",
    "Atributes:\n",
    "\n",
    ">`df`: is the DataFrame it self.\n",
    "\n",
    ">`translator`: a Translator() instancied object \n",
    "\n",
    ">`title`: is the DataFrame's title.\n",
    "\n",
    ">`unit`: is the DataFrame's units.\n",
    "\n",
    ">`footer`: is the DataFrame's source and notes.\n",
    "\n",
    "> `self.translate`: is a boolean that allows translation methods.\n",
    "\n",
    "> `self.translate_first_level`: is a boolean that call the translate_first_level method.\n",
    "\n",
    "Methods:\n",
    "\n",
    ">`drop_na()`: drops all rows and columns that have all values equals to NaN.\n",
    "\n",
    "> `drop_levels()`:  drops all levels that categorize the table itself, and not its values individually. However those informations are allocated as table's title and unit for later use.\n",
    "\n",
    ">`index_translate_index()`: translate a index DataFrame to English.\n",
    "\n",
    ">`index_translate_multi_index()`: translate a MultiIndex DataFrame to English.\n",
    "\n",
    ">`drop_last_column()`: drop the last column if it has been configured as an unnamed column. The value of this column is a ratio that is redundant to our project.\n",
    "\n",
    "Translations from Portuguese to English will also be performed within the class using `googletrans` package. The words that are not supported by the package will be translated directly using a dictionary."
   ]
  },
  {
   "cell_type": "code",
   "execution_count": 1,
   "metadata": {},
   "outputs": [],
   "source": [
    "class MyDataFrame: \n",
    "    def __init__(self, df, translate=False, translate_first_level=False, drop_level=True):\n",
    "        \n",
    "        self.df = df\n",
    "        self.translate = translate\n",
    "        self.translate_first_level = translate_first_level\n",
    "        self.drop_level = drop_level\n",
    "        self.translator = Translator()\n",
    "        self.title = ''\n",
    "        self.unit = ''\n",
    "        self.footer = ''\n",
    "              \n",
    "\n",
    "        if self.df.index.nlevels > 1:\n",
    "            self.title_unit_multiindex();\n",
    "        \n",
    "        if self.drop_level:\n",
    "            self.drop_levels()\n",
    "\n",
    "      \n",
    "        if self.translate:\n",
    "            if self.df.index.nlevels == 1:\n",
    "                self.translate_index()\n",
    "                \n",
    "            \n",
    "        if self.translate:\n",
    "            if self.df.index.nlevels > 1:\n",
    "                self.translate_multi_index()\n",
    "        \n",
    "        \n",
    "        if self.white_space:\n",
    "            self.replace_white_space()\n",
    "\n",
    "\n",
    "        self.drop_na()\n",
    "            \n",
    "            \n",
    "    def title_unit_multiindex(self):\n",
    "        self.title = self.df.columns[0][0]\n",
    "        self.unit = self.df.columns[1][1]\n",
    "            \n",
    "    def drop_levels(self):\n",
    "        \"\"\"\n",
    "        Drops two column levels that contained the infos previously captured (table's title and unit)\n",
    "        \"\"\"     \n",
    "        while self.df.columns.nlevels>1:\n",
    "            self.df.columns = self.df.columns.droplevel(0)\n",
    "            \n",
    "            \n",
    "    def drop_na(self):\n",
    "        \"\"\"\n",
    "        Drops all rows and columns that have all values equals to NaN.\n",
    "        \"\"\"  \n",
    "        self.df.dropna(how = 'all', inplace = True)\n",
    "        self.df.dropna(axis = 'columns', how = 'all', inplace = True)\n",
    "\n",
    "    \n",
    "    def translate_index(self):\n",
    "        \"\"\"\n",
    "        Translates the index of a DataFrame to English.\n",
    "        \"\"\"\n",
    "        self.new_index = []\n",
    "        for index in self.df.index:\n",
    "            if index == 'Reinjeção':\n",
    "                self.new_index.append('Reinjection')\n",
    "            elif (index == 'Espírito Santo') or (index == 'Espirito_Santo'):\n",
    "                self.new_index.append('Espirito_Santo')\n",
    "            elif index == 'Amazonas':\n",
    "                self.new_index.append('Amazonas')\n",
    "            elif index == 'Alagoas':\n",
    "                self.new_index.append('Alagoas')\n",
    "            elif (index == 'Ceará') or (index == 'Ceara'):\n",
    "                self.new_index.append('Ceara')\n",
    "            elif (index == 'Rio Grande do Norte') or (index == 'Rio_Grande_do_Norte'):\n",
    "                self.new_index.append('Rio_Grande_do_Norte')\n",
    "            else:\n",
    "                self.new_index.append(self.translator.translate(index).text)\n",
    "        self.df.index = self.new_index\n",
    "        \n",
    "                        \n",
    "    def translate_multi_index(self):\n",
    "        \"\"\"\n",
    "        Translates a MultiIndex DataFrame to English.\n",
    "        \"\"\"\n",
    "        \n",
    "        if self.translate_first_level == True:\n",
    "            for i, num in enumerate(self.df.index):\n",
    "                    for j in range(self.df.index.nlevels):       \n",
    "                        if j==0:\n",
    "                            if (self.df.index[i][j] == 'Espírito_Santo') or (self.df.index[i][j] == 'Espirito_Santo'):\n",
    "                                self.df.index = self.df.index.set_levels(self.df.index.levels[j].str.replace('Espírito_Santo','Espirito_Santo'), level = j)\n",
    "                            elif self.df.index[i][j] == 'Amazonas':\n",
    "                                self.df.index = self.df.index.set_levels(self.df.index.levels[j].str.replace('Amazonas','Amazonas'), level = j)\n",
    "                            elif self.df.index[i][j] == 'Alagoas':\n",
    "                                self.df.index = self.df.index.set_levels(self.df.index.levels[j].str.replace('Alagoas','Alagoas'), level = j)\n",
    "                            elif (self.df.index[i][j] == 'Ceará') or (self.df.index[i][j] == 'Ceara'):\n",
    "                                self.df.index = self.df.index.set_levels(self.df.index.levels[j].str.replace('Ceará','Ceara'), level = j)\n",
    "                            elif (self.df.index[i][j] == 'Rio Grande do Norte') or (self.df.index[i][j] == 'Rio_Grande_do_Norte'):\n",
    "                                self.df.index = self.df.index.set_levels(self.df.index.levels[j].str.replace(' ','_'), level = j)\n",
    "                            else:\n",
    "                                self.df.index = self.df.index.set_levels(self.df.index.levels[j].str.replace(self.df.index[i][j], self.translator.translate(self.df.index[i][j]).text), level = j)\n",
    "        \n",
    "        for i, num in enumerate(self.df.index):\n",
    "            for j in range(self.df.index.nlevels):\n",
    "                if j==0:\n",
    "                    pass\n",
    "                if j==1:\n",
    "                    if self.df.index[i][j] == 'Mar': # checks if one of the words that the translate package can not translate\n",
    "                        self.df.index = self.df.index.set_levels(self.df.index.levels[j].str.replace('Mar','Offshore'), level = j)\n",
    "                    elif self.df.index[i][j] == 'Terra': # checks if one of the words that the translate package can not translate\n",
    "                        self.df.index = self.df.index.set_levels(self.df.index.levels[j].str.replace('Terra','Onshore'), level = j)\n",
    "                    elif not isinstance(self.df.index[i][j], str):\n",
    "                        pass\n",
    "                    else:\n",
    "                        self.df.index = self.df.index.set_levels(self.df.index.levels[j].str.replace(self.df.index[i][j], self.translator.translate(self.df.index[i][j]).text), level = j)\n",
    "        \n",
    "        \n",
    "    def replace_underscore(self):\n",
    "        \"\"\"\n",
    "        Replaces all underscore for white space.\n",
    "        \"\"\"\n",
    "        if self.df.index.nlevels > 1: # tells how many level are\n",
    "            for i, level in enumerate(range(self.df.index.nlevels)): # runs through levels\n",
    "                #for j, value in enumerate(self.df.index.levels[i]): # runs through the level's value and replace white space for underline\n",
    "                self.df.index = self.df.index.set_levels(self.df.index.levels[i].str.replace(\"_\", \" \"), level = i)\n",
    "        \n",
    "        elif self.df.index.nlevels == 1:\n",
    "            self.new_index = []\n",
    "            for index in self.df.index:\n",
    "                self.new_index.append(index.replace('_', ' '))\n",
    "            self.df.index = self.new_index\n",
    "            \n",
    "            \n",
    "    def drop_unnamed_column(self):\n",
    "        \"\"\"\n",
    "        Drops the last column if its name starts with 'Unnamed'.\n",
    "        \"\"\"            \n",
    "        for i,name in enumerate(self.df.columns):\n",
    "            if type(name) == str and name.startswith('Unnamed'):\n",
    "                self.df = self.df.drop(self.df.columns[-1], axis=1)\n",
    "\n",
    "    def index_sups(self):\n",
    "        \"\"\"\n",
    "        Fix all index that has number as supscript.\n",
    "        \"\"\"\n",
    "        if self.df.index.nlevels > 1:\n",
    "            for name in self.df.index.levels[0]:\n",
    "\n",
    "                self.df.index = self.df.index.set_levels(self.df.index.levels[0].str.replace('1','¹'), level = 0)\n",
    "                self.df.index = self.df.index.set_levels(self.df.index.levels[0].str.replace('2','²'), level = 0)\n",
    "                self.df.index = self.df.index.set_levels(self.df.index.levels[0].str.replace('3','³'), level = 0)\n",
    "                self.df.index = self.df.index.set_levels(self.df.index.levels[0].str.replace('4','⁴'), level = 0)\n",
    "                self.df.index = self.df.index.set_levels(self.df.index.levels[0].str.replace('5','⁵'), level = 0)\n",
    "                self.df.index = self.df.index.set_levels(self.df.index.levels[0].str.replace('6','⁶'), level = 0)\n",
    "                self.df.index = self.df.index.set_levels(self.df.index.levels[0].str.replace('7','⁷'), level = 0)\n",
    "                self.df.index = self.df.index.set_levels(self.df.index.levels[0].str.replace('8','⁸'), level = 0)\n",
    "                self.df.index = self.df.index.set_levels(self.df.index.levels[0].str.replace('9','⁹'), level = 0)\n",
    "\n",
    "        if self.df.index.nlevels == 1:\n",
    "            self.df.index = self.df.index.str.replace('1','¹')\n",
    "            self.df.index = self.df.index.str.replace('2','²')\n",
    "            self.df.index = self.df.index.str.replace('3','³')\n",
    "            self.df.index = self.df.index.str.replace('4','⁴')\n",
    "            self.df.index = self.df.index.str.replace('5','⁵')\n",
    "            self.df.index = self.df.index.str.replace('6','⁶')\n",
    "            self.df.index = self.df.index.str.replace('7','⁷')\n",
    "            self.df.index = self.df.index.str.replace('8','⁸')\n",
    "            self.df.index = self.df.index.str.replace('9','⁹')\n"
   ]
  },
  {
   "cell_type": "markdown",
   "metadata": {},
   "source": [
    "## About the data\n",
    "\n",
    "The data were collected from:\n",
    "\n",
    "* [Petroleum National Agency Statistical Yearbook 2020](http://www.anp.gov.br/publicacoes/anuario-estatistico/anuario-estatistico-2020), ANP *(Portuguese: Agência Nacional de Petróleo)*, consolidates data on the performance of the Brazilian oil, natural gas and biofuels industry and the national supply system in 2010-2019;\n",
    "\n",
    "* [ANEEL](https://www.aneel.gov.br/dados/geracao) (Portuguese: Agência Nacional de Energia Elétrica) Generation by Source: \n",
    "History of the volume of electricity produced in the country in GWh, expressed by the values of energy load dispatched in the National Interconnected System - SIN, classified by renewable sources or not and the volume produced by generators not yet interconnected.\n",
    "\n",
    "* [The World Bank](https://data.worldbank.org/country/brazil)\n",
    "* [Ministério de Minas e Energia] (http://www.mme.gov.br/documents/36216/1119340/06+-+Boletim+Mensal+de+Acompanhamento+da+Ind%C3%BAstria+de+G%C3%A1s+Natural+Junho+2020/4ecd27ca-bd64-bfa7-3510-03799045f87f) Demand by Segment: Monthly Industry Follow-up Bulletin of Natural Gas.\n",
    "\n",
    "* [NASA Giovanni] (https://giovanni.gsfc.nasa.gov/giovanni/) Precipitation Data. Instructions after log in on the website:\n",
    "\n",
    "\n",
    "> 1. `Select Plot`: Time Series, Seasonal\n",
    "\n",
    "> 2. `Select Seasonal Dates`: Select all months, years 2010 to 2018\n",
    "\n",
    "> 3. `Select Region`: Countries Brazil;\n",
    "\n",
    "> 4. `Keyword`: Precipitation\n",
    "\n",
    "> 5. `Variable`: Preciptation Rate (TRMM_#B43 v7)\n",
    "\n",
    "> 6. `Units`: mm/month\n",
    "\n",
    "> After making the selection above, click on `Plot Data`\n",
    "\n",
    "* [EIA](https://www.eia.gov/environment/emissions/co2_vol_mass.php) Carbon Dioxide Emissions Coefficients\n",
    "\n"
   ]
  },
  {
   "cell_type": "code",
   "execution_count": null,
   "metadata": {},
   "outputs": [],
   "source": []
  },
  {
   "cell_type": "code",
   "execution_count": null,
   "metadata": {},
   "outputs": [],
   "source": []
  }
 ],
 "metadata": {
  "kernelspec": {
   "display_name": "Python 3",
   "language": "python",
   "name": "python3"
  },
  "language_info": {
   "codemirror_mode": {
    "name": "ipython",
    "version": 3
   },
   "file_extension": ".py",
   "mimetype": "text/x-python",
   "name": "python",
   "nbconvert_exporter": "python",
   "pygments_lexer": "ipython3",
   "version": "3.8.2-final"
  }
 },
 "nbformat": 4,
 "nbformat_minor": 4
}