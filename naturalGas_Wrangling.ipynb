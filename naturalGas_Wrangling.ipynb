{
 "metadata": {
  "language_info": {
   "codemirror_mode": {
    "name": "ipython",
    "version": 3
   },
   "file_extension": ".py",
   "mimetype": "text/x-python",
   "name": "python",
   "nbconvert_exporter": "python",
   "pygments_lexer": "ipython3",
   "version": "3.8.2-final"
  },
  "orig_nbformat": 2,
  "kernelspec": {
   "name": "python38264bit1bc03026842f4e58ab986af81481d738",
   "display_name": "Python 3.8.2 64-bit"
  }
 },
 "nbformat": 4,
 "nbformat_minor": 2,
 "cells": [
  {
   "cell_type": "markdown",
   "metadata": {},
   "source": [
    "# Import"
   ]
  },
  {
   "cell_type": "code",
   "execution_count": null,
   "metadata": {},
   "outputs": [],
   "source": [
    "import pandas as pd\n",
    "import numpy as np\n",
    "import matplotlib.pyplot as plt\n",
    "%matplotlib inline\n",
    "import datetime\n",
    "\n",
    "from googletrans import Translator"
   ]
  },
  {
   "cell_type": "markdown",
   "metadata": {},
   "source": [
    "# MyDataFrame Class"
   ]
  },
  {
   "cell_type": "code",
   "execution_count": null,
   "metadata": {},
   "outputs": [],
   "source": [
    "class MyDataFrame: \n",
    "    def __init__(self, df, translate=False, translate_first_level=False, white_space=False, drop_level=True):\n",
    "        \n",
    "        self.df = df\n",
    "        self.translator = Translator()\n",
    "        self.title = ''\n",
    "        self.unit = ''\n",
    "        self.footer = ''\n",
    "        self.translate = translate\n",
    "        self.translate_first_level = translate_first_level\n",
    "        self.white_space= white_space\n",
    "        self.drop_level = drop_level\n",
    "        #self.ratio = (((self.df.iloc[:,-2]-self.df.iloc[:,-3])/self.df.iloc[:,-3])*100).round()\n",
    "        #self.last_column = self.df.iloc[:,-1].replace('..', 0).round()\n",
    "        \n",
    "        self.drop_na()\n",
    "        \n",
    "        if self.df.index.nlevels > 1:\n",
    "            self.title_unit_multiindex();\n",
    "        \n",
    "        if self.drop_level:\n",
    "            self.drop_levels()\n",
    "            \n",
    "        #if (self.ratio == self.last_column).all():\n",
    "        #   self.drop_last_column()\n",
    "        \n",
    "        \n",
    "        if self.translate:\n",
    "            if self.df.index.nlevels == 1:\n",
    "                self.translate_index()\n",
    "                \n",
    "            \n",
    "        if self.translate:\n",
    "            if self.df.index.nlevels > 1:\n",
    "                self.translate_multi_index()\n",
    "        \n",
    "        \n",
    "        if self.white_space:\n",
    "            self.replace_white_space()\n",
    "            \n",
    "            \n",
    "    def title_unit_multiindex(self):\n",
    "        self.title = self.df.columns[0][0]\n",
    "        self.unit = self.df.columns[1][1]\n",
    "            \n",
    "    def drop_levels(self):\n",
    "        \"\"\"\n",
    "        This method drops two column levels that contained the infos previously captured (table's title and unit)\n",
    "        \"\"\"     \n",
    "        while self.df.columns.nlevels>1:\n",
    "            self.df.columns = self.df.columns.droplevel(0)\n",
    "            \n",
    "            \n",
    "    def drop_na(self):\n",
    "        \"\"\"\n",
    "        This method drops all rows and columns that have all values equals to NaN.\n",
    "        \"\"\"  \n",
    "        self.df.dropna(how = 'all', inplace = True)\n",
    "        self.df.dropna(axis = 'columns', how = 'all', inplace = True)\n",
    "\n",
    "    \n",
    "    def translate_index(self):\n",
    "        \"\"\"\n",
    "        This method translates the index of a DataFrame to English.\n",
    "        \"\"\"\n",
    "        self.new_index = []\n",
    "        for index in self.df.index:\n",
    "            if index == 'Reinjeção':\n",
    "                self.new_index.append('Reinjection')\n",
    "            elif (index == 'Espírito Santo') or (index == 'Espirito_Santo'):\n",
    "                self.new_index.append('Espirito_Santo')\n",
    "            elif index == 'Amazonas':\n",
    "                self.new_index.append('Amazonas')\n",
    "            elif index == 'Alagoas':\n",
    "                self.new_index.append('Alagoas')\n",
    "            elif (index == 'Ceará') or (index == 'Ceara'):\n",
    "                self.new_index.append('Ceara')\n",
    "            elif (index == 'Rio Grande do Norte') or (index == 'Rio_Grande_do_Norte'):\n",
    "                self.new_index.append('Rio_Grande_do_Norte')\n",
    "            else:\n",
    "                self.new_index.append(self.translator.translate(index).text)\n",
    "        self.df.index = self.new_index\n",
    "        \n",
    "                        \n",
    "    def translate_multi_index(self):\n",
    "        \"\"\"\n",
    "        This method translates a MultiIndex DataFrame to English.\n",
    "        \"\"\"\n",
    "        \n",
    "        if self.translate_first_level == True:\n",
    "            for i, num in enumerate(self.df.index):\n",
    "                    for j in range(self.df.index.nlevels):       \n",
    "                        if j==0:\n",
    "                            if (self.df.index[i][j] == 'Espírito_Santo') or (self.df.index[i][j] == 'Espirito_Santo'):\n",
    "                                self.df.index = self.df.index.set_levels(self.df.index.levels[j].str.replace('Espírito_Santo','Espirito_Santo'), level = j)\n",
    "                            elif self.df.index[i][j] == 'Amazonas':\n",
    "                                self.df.index = self.df.index.set_levels(self.df.index.levels[j].str.replace('Amazonas','Amazonas'), level = j)\n",
    "                            elif self.df.index[i][j] == 'Alagoas':\n",
    "                                self.df.index = self.df.index.set_levels(self.df.index.levels[j].str.replace('Alagoas','Alagoas'), level = j)\n",
    "                            elif (self.df.index[i][j] == 'Ceará') or (self.df.index[i][j] == 'Ceara'):\n",
    "                                self.df.index = self.df.index.set_levels(self.df.index.levels[j].str.replace('Ceará','Ceara'), level = j)\n",
    "                            elif (self.df.index[i][j] == 'Rio Grande do Norte') or (self.df.index[i][j] == 'Rio_Grande_do_Norte'):\n",
    "                                self.df.index = self.df.index.set_levels(self.df.index.levels[j].str.replace(' ','_'), level = j)\n",
    "                            else:\n",
    "                                self.df.index = self.df.index.set_levels(self.df.index.levels[j].str.replace(self.df.index[i][j], self.translator.translate(self.df.index[i][j]).text), level = j)\n",
    "        \n",
    "        for i, num in enumerate(self.df.index):\n",
    "            for j in range(self.df.index.nlevels):\n",
    "                if j==0:\n",
    "                    pass\n",
    "                if j==1:\n",
    "                    if self.df.index[i][j] == 'Mar': # checks if one of the words that the translate package can not translate\n",
    "                        self.df.index = self.df.index.set_levels(self.df.index.levels[j].str.replace('Mar','Offshore'), level = j)\n",
    "                    elif self.df.index[i][j] == 'Terra': # checks if one of the words that the translate package can not translate\n",
    "                        self.df.index = self.df.index.set_levels(self.df.index.levels[j].str.replace('Terra','Onshore'), level = j)\n",
    "                    elif not isinstance(self.df.index[i][j], str):\n",
    "                        pass\n",
    "                    else:\n",
    "                        self.df.index = self.df.index.set_levels(self.df.index.levels[j].str.replace(self.df.index[i][j], self.translator.translate(self.df.index[i][j]).text), level = j)\n",
    "        \n",
    "        \n",
    "    def replace_underscore(self):\n",
    "        \"\"\"\n",
    "        This method replaces all underscore for white space.\n",
    "        \"\"\"\n",
    "        if self.df.index.nlevels > 1: # tells how many level are\n",
    "            for i, level in enumerate(range(self.df.index.nlevels)): # runs through levels\n",
    "                #for j, value in enumerate(self.df.index.levels[i]): # runs through the level's value and replace white space for underline\n",
    "                self.df.index = self.df.index.set_levels(self.df.index.levels[i].str.replace(\"_\", \" \"), level = i)\n",
    "        \n",
    "        elif self.df.index.nlevels == 1:\n",
    "            self.new_index = []\n",
    "            for index in self.df.index:\n",
    "                self.new_index.append(index.replace('_', ' '))\n",
    "            self.df.index = self.new_index\n",
    "            \n",
    "            \n",
    "    def drop_unnamed_column(self):\n",
    "        \"\"\"\n",
    "        This method drops the last column if its name starts with 'Unnamed'.\n",
    "        \"\"\"            \n",
    "        for i,name in enumerate(self.df.columns):\n",
    "            if type(name) == str and name.startswith('Unnamed'):\n",
    "                self.df = self.df.drop(self.df.columns[-1], axis=1)\n",
    "\n",
    "    def index_sups(self):\n",
    "        if self.df.index.nlevels > 1:\n",
    "            for name in self.df.index.levels[0]:\n",
    "\n",
    "                self.df.index = self.df.index.set_levels(self.df.index.levels[0].str.replace('1','¹'), level = 0)\n",
    "                self.df.index = self.df.index.set_levels(self.df.index.levels[0].str.replace('2','²'), level = 0)\n",
    "                self.df.index = self.df.index.set_levels(self.df.index.levels[0].str.replace('3','³'), level = 0)\n",
    "                self.df.index = self.df.index.set_levels(self.df.index.levels[0].str.replace('4','⁴'), level = 0)\n",
    "                self.df.index = self.df.index.set_levels(self.df.index.levels[0].str.replace('5','⁵'), level = 0)\n",
    "                self.df.index = self.df.index.set_levels(self.df.index.levels[0].str.replace('6','⁶'), level = 0)\n",
    "                self.df.index = self.df.index.set_levels(self.df.index.levels[0].str.replace('7','⁷'), level = 0)\n",
    "                self.df.index = self.df.index.set_levels(self.df.index.levels[0].str.replace('8','⁸'), level = 0)\n",
    "                self.df.index = self.df.index.set_levels(self.df.index.levels[0].str.replace('9','⁹'), level = 0)\n",
    "\n",
    "        if self.df.index.nlevels == 1:\n",
    "            self.df.index = self.df.index.str.replace('1','¹')\n",
    "            self.df.index = self.df.index.str.replace('2','²')\n",
    "            self.df.index = self.df.index.str.replace('3','³')\n",
    "            self.df.index = self.df.index.str.replace('4','⁴')\n",
    "            self.df.index = self.df.index.str.replace('5','⁵')\n",
    "            self.df.index = self.df.index.str.replace('6','⁶')\n",
    "            self.df.index = self.df.index.str.replace('7','⁷')\n",
    "            self.df.index = self.df.index.str.replace('8','⁸')\n",
    "            self.df.index = self.df.index.str.replace('9','⁹')\n",
    "\n"
   ]
  },
  {
   "cell_type": "markdown",
   "metadata": {},
   "source": [
    "# Load and Wrangling"
   ]
  },
  {
   "cell_type": "markdown",
   "metadata": {},
   "source": [
    "### Total¹ Reserves of Natural Gas, by Location (Shore and Offshore), according to Federation² Units - 2010-2019"
   ]
  },
  {
   "cell_type": "code",
   "execution_count": null,
   "metadata": {},
   "outputs": [],
   "source": [
    "total_reserves = MyDataFrame(pd.read_excel(r'data_set/anuario-2020-tabela-2_5.xls',  header = [0,2,3], index_col = [0,1]), translate=True,)"
   ]
  },
  {
   "cell_type": "code",
   "execution_count": null,
   "metadata": {
    "tags": []
   },
   "outputs": [],
   "source": [
    "#dropping Unnamed column\n",
    "total_reserves.drop_unnamed_column()\n",
    "\n",
    "# Correcting Index Supscrit\n",
    "total_reserves.index_sups()\n",
    "\n",
    "# Setting unit, title and footer\n",
    "total_reserves.unit = '10⁶ m³'\n",
    "total_reserves.title = 'Total¹ Reserves of Natural Gas, by Location (Shore and Offshore), according to Federation² Units - 2010-2019'\n",
    "total_reserves.footer ='Source:\\nANP/SDP, as per Resolution ANP No. 47/2014.\\n\\nNotes:\\n1. Reserves on 12/31 of the reference years.\\n2. See the General Notes item on \"Brazilian Oil and Natural Gas Reserves\".\\n\\n¹ Including reserves whose fields Development Plans are under analysis.\\n² The reserves are fully appropriated to the state in which each field has its area mostly located.\\n³ The Roncador and Frade field reserves are fully appropriated in the State of Rio de Janeiro, for simplification.\\n⁴ The Sapinhoá field reserves are fully appropriated in the State of São Paulo for simplification.\\n⁵ The reserves in the Caravela field are fully appropriated in the State of Paraná, for simplification.\\n⁶ The Tubarão field reserves are fully appropriated in the State of Santa Catarina, for simplification.\\n'"
   ]
  },
  {
   "cell_type": "markdown",
   "metadata": {},
   "source": [
    "### Evolution of Natural Gas Processing Capacity, According to Production Centers - 2010-2019"
   ]
  },
  {
   "cell_type": "code",
   "execution_count": null,
   "metadata": {},
   "outputs": [],
   "source": [
    "processing = MyDataFrame(pd.read_excel(r'data_set/anuario-2020-tabela-2_30.xls',  header = [0,2,3], index_col = [0]))"
   ]
  },
  {
   "cell_type": "code",
   "execution_count": null,
   "metadata": {
    "tags": []
   },
   "outputs": [],
   "source": [
    "# Setting unit, title and footer\n",
    "processing.unit = '10³ m³/dia'\n",
    "processing.title = 'Evolution of Natural Gas Processing Capacity, According to Production Centers - 2010-2019'\n",
    "processing.footer = '¹ Volume in the gaseous state.\\n² Includes the UPGNs (Natural Gas Production Units) in Catu and Bahia until 2013. From 2014, only includes Catu.'"
   ]
  },
  {
   "cell_type": "markdown",
   "metadata": {},
   "source": [
    "### Proved natural gas reserves¹, per location (onshore and offshore), by State² – 2010-2019"
   ]
  },
  {
   "cell_type": "code",
   "execution_count": null,
   "metadata": {},
   "outputs": [],
   "source": [
    "proved_reserves = MyDataFrame(pd.read_excel(r'data_set/table-1_2.xls', header = [0,2,3], index_col = [0,1]))"
   ]
  },
  {
   "cell_type": "code",
   "execution_count": null,
   "metadata": {
    "tags": []
   },
   "outputs": [],
   "source": [
    "# Dropping Unnamed Column\n",
    "proved_reserves.drop_unnamed_column()\n",
    "\n",
    "# Correcting Index Supscrit\n",
    "proved_reserves.index_sups()\n",
    "\n",
    "\n",
    "proved_reserves.unit = '10⁶ m³'\n",
    "proved_reserves.title = 'Proved natural gas reserves¹, per location (onshore and offshore), by State² – 2010-2019'\n",
    "proved_reserves.footer = 'Source: \\nANP/SDP, as per Ordinance ANP No. 47/2014.\\n\\nNotes: \\n1. Reserves on December 31 of reference years.1Reserves related to fields whose development plans are still under analysis by ANP included.\\n2. Condensates included.\\n3. See item in General Notes on \"Brazilian Oil and Natural Gas Reserves\".\\n\\n¹ Reserves related to fields whose development plans are still under analysis by ANP included.\\n² The reserves are fully appropriated to the State in which each field has its area.\\n³ Reserves related to Roncador and Frade fields were totally accounted to the State of Rio de Janeiro by means of simplification.\\n⁴ Sapinhoá field reserves are fully appropriated in the State of São Paulo for simplification.\\n⁵ Reserves related to Caravela field were totally accounted to the State of Paraná by means of simplification.\\n⁶ Reserves related to Tubarão field are totally accounted to the State of Santa Catarina by means of simplification.'"
   ]
  },
  {
   "cell_type": "markdown",
   "metadata": {},
   "source": [
    "### Natural Gas Domestic Sales by Brazilian Region and State – 2010-2019"
   ]
  },
  {
   "cell_type": "code",
   "execution_count": null,
   "metadata": {},
   "outputs": [],
   "source": [
    "domestic_sale = MyDataFrame(pd.read_excel(r'data_set/table-1_25.xls', header = [0,2,3], index_col = [0]))"
   ]
  },
  {
   "cell_type": "code",
   "execution_count": null,
   "metadata": {
    "tags": []
   },
   "outputs": [],
   "source": [
    "# Dropping Unnamed Column\n",
    "domestic_sale.drop_unnamed_column()\n",
    "\n",
    "# Correcting Index Supscrit\n",
    "domestic_sale.index_sups()\n",
    "\n",
    "# Setting unit, title and footer\n",
    "domestic_sale.unit = '10⁶ m³'\n",
    "domestic_sale.title = 'Natural Gas Domestic Sales by Brazilian Region and State – 2010-2019'\n",
    "domestic_sale.footer = 'Sources: \\nPetrobras and ANP.\\n\\nNote:\\nRelated only the States where there were sales of natural gas in the specified period.\\n\\n¹Include sales to thermal generation ²Sales for Nitrogen Fertilizer plants (Fafen) and sales for thermal generation.'"
   ]
  },
  {
   "cell_type": "markdown",
   "metadata": {},
   "source": [
    "### Brazilian natural gas balance – 2010-2019"
   ]
  },
  {
   "cell_type": "code",
   "execution_count": null,
   "metadata": {},
   "outputs": [],
   "source": [
    "balance = MyDataFrame(pd.read_excel(r'data_set/table-1_26.xls', header = [0,2,3], index_col = [0]))"
   ]
  },
  {
   "cell_type": "code",
   "execution_count": null,
   "metadata": {
    "tags": []
   },
   "outputs": [],
   "source": [
    "# Dropping Unnamed Column\n",
    "balance.drop_unnamed_column()\n",
    "\n",
    "# Correcting Index Supscrit\n",
    "balance.index_sups()\n",
    "\n",
    "# Setting unit, title and footer\n",
    "balance.unit = '10⁶ m³'\n",
    "balance.title = 'Brazilian natural gas balance – 2010-2019'\n",
    "balance.footer = 'Sources: \\nANP/SIM, as per Ordinance ANP No. 43/98, for imports data; ANP/SDP, as per Decree No. 2.705/98, for  production, reinjection, gas flaring and losses data; Petrobras, for own consumption, NGL and sales data.\\n\\n¹ Refers to Petrobras own consumption in production areas, refineries, NGPP (Natural Gas Power Plant), transportation and storage. \\n² Volume of gas absorbed in NGPPs. \\n³ Sales to distributors, nitrofertilizers plants (Fafen) and electricity generation.'"
   ]
  },
  {
   "cell_type": "markdown",
   "metadata": {},
   "source": [
    "### Brazilian Natural Gas Demand – 2010-2019"
   ]
  },
  {
   "cell_type": "code",
   "execution_count": 191,
   "metadata": {},
   "outputs": [
    {
     "output_type": "execute_result",
     "data": {
      "text/plain": "                                2010          2011          2012  \\\nImport                  12647.163059  10481.230275  13142.787000   \nExport                      0.000000     50.220631    312.300000   \nProduction              22938.446513  24073.730577  25832.244517   \nReinjection              4369.053258   4037.731513   3542.732598   \nGas flaring              2417.758896   1756.226339   1444.516950   \nOwn consumption¹         6744.762530   7802.974057   8850.031417   \nNGL²                     1335.038659   1286.725075   1281.447149   \nSales³                  20457.563469  19307.265264  23284.159076   \nAdjustments and losses    261.432759    313.817972    259.844328   \nAdjustments and losses    261.432760    313.817972    259.844327   \n\n                                2013          2014          2015  \\\nImport                  16513.465000  17398.010000  19111.557000   \nExport                     37.381800     90.466000      1.870000   \nProduction              28174.212905  31894.874000  35126.447000   \nReinjection              3883.004317   5739.690000   8866.713000   \nGas flaring              1302.885282   1619.208000   1397.675000   \nOwn consumption¹         9077.946961   9335.072936  10851.056777   \nNGL²                     1336.773000   1505.328000   1380.795000   \nSales³                  28783.642605  30768.358064  31502.467702   \nAdjustments and losses    266.043941    234.761000    237.426521   \nAdjustments and losses    266.043940    234.761000    237.426521   \n\n                                2016          2017          2018          2019  \nImport                  13320.723000  10642.550000  10842.398805   9855.431833  \nExport                    517.481000    134.520000     80.136042      0.000000  \nProduction              37890.450000  40117.402000  40857.207060  44724.231944  \nReinjection             11069.494474  10076.841000  12811.951061  15776.669711  \nGas flaring              1484.082000   1377.136000   1358.206104   1589.738474  \nOwn consumption¹         9359.798000   9630.178814   9352.726619   9393.638796  \nNGL²                     1540.860000   1851.088000   1896.362000   1960.897610  \nSales³                  27224.483515  27490.860364  26050.725307  25854.502470  \nAdjustments and losses     14.974011    199.327822    149.498732      4.216716  \nAdjustments and losses     14.974011    199.327822    149.498732      4.216716  ",
      "text/html": "<div>\n<style scoped>\n    .dataframe tbody tr th:only-of-type {\n        vertical-align: middle;\n    }\n\n    .dataframe tbody tr th {\n        vertical-align: top;\n    }\n\n    .dataframe thead th {\n        text-align: right;\n    }\n</style>\n<table border=\"1\" class=\"dataframe\">\n  <thead>\n    <tr style=\"text-align: right;\">\n      <th></th>\n      <th>2010</th>\n      <th>2011</th>\n      <th>2012</th>\n      <th>2013</th>\n      <th>2014</th>\n      <th>2015</th>\n      <th>2016</th>\n      <th>2017</th>\n      <th>2018</th>\n      <th>2019</th>\n    </tr>\n  </thead>\n  <tbody>\n    <tr>\n      <th>Import</th>\n      <td>12647.163059</td>\n      <td>10481.230275</td>\n      <td>13142.787000</td>\n      <td>16513.465000</td>\n      <td>17398.010000</td>\n      <td>19111.557000</td>\n      <td>13320.723000</td>\n      <td>10642.550000</td>\n      <td>10842.398805</td>\n      <td>9855.431833</td>\n    </tr>\n    <tr>\n      <th>Export</th>\n      <td>0.000000</td>\n      <td>50.220631</td>\n      <td>312.300000</td>\n      <td>37.381800</td>\n      <td>90.466000</td>\n      <td>1.870000</td>\n      <td>517.481000</td>\n      <td>134.520000</td>\n      <td>80.136042</td>\n      <td>0.000000</td>\n    </tr>\n    <tr>\n      <th>Production</th>\n      <td>22938.446513</td>\n      <td>24073.730577</td>\n      <td>25832.244517</td>\n      <td>28174.212905</td>\n      <td>31894.874000</td>\n      <td>35126.447000</td>\n      <td>37890.450000</td>\n      <td>40117.402000</td>\n      <td>40857.207060</td>\n      <td>44724.231944</td>\n    </tr>\n    <tr>\n      <th>Reinjection</th>\n      <td>4369.053258</td>\n      <td>4037.731513</td>\n      <td>3542.732598</td>\n      <td>3883.004317</td>\n      <td>5739.690000</td>\n      <td>8866.713000</td>\n      <td>11069.494474</td>\n      <td>10076.841000</td>\n      <td>12811.951061</td>\n      <td>15776.669711</td>\n    </tr>\n    <tr>\n      <th>Gas flaring</th>\n      <td>2417.758896</td>\n      <td>1756.226339</td>\n      <td>1444.516950</td>\n      <td>1302.885282</td>\n      <td>1619.208000</td>\n      <td>1397.675000</td>\n      <td>1484.082000</td>\n      <td>1377.136000</td>\n      <td>1358.206104</td>\n      <td>1589.738474</td>\n    </tr>\n    <tr>\n      <th>Own consumption¹</th>\n      <td>6744.762530</td>\n      <td>7802.974057</td>\n      <td>8850.031417</td>\n      <td>9077.946961</td>\n      <td>9335.072936</td>\n      <td>10851.056777</td>\n      <td>9359.798000</td>\n      <td>9630.178814</td>\n      <td>9352.726619</td>\n      <td>9393.638796</td>\n    </tr>\n    <tr>\n      <th>NGL²</th>\n      <td>1335.038659</td>\n      <td>1286.725075</td>\n      <td>1281.447149</td>\n      <td>1336.773000</td>\n      <td>1505.328000</td>\n      <td>1380.795000</td>\n      <td>1540.860000</td>\n      <td>1851.088000</td>\n      <td>1896.362000</td>\n      <td>1960.897610</td>\n    </tr>\n    <tr>\n      <th>Sales³</th>\n      <td>20457.563469</td>\n      <td>19307.265264</td>\n      <td>23284.159076</td>\n      <td>28783.642605</td>\n      <td>30768.358064</td>\n      <td>31502.467702</td>\n      <td>27224.483515</td>\n      <td>27490.860364</td>\n      <td>26050.725307</td>\n      <td>25854.502470</td>\n    </tr>\n    <tr>\n      <th>Adjustments and losses</th>\n      <td>261.432759</td>\n      <td>313.817972</td>\n      <td>259.844328</td>\n      <td>266.043941</td>\n      <td>234.761000</td>\n      <td>237.426521</td>\n      <td>14.974011</td>\n      <td>199.327822</td>\n      <td>149.498732</td>\n      <td>4.216716</td>\n    </tr>\n    <tr>\n      <th>Adjustments and losses</th>\n      <td>261.432760</td>\n      <td>313.817972</td>\n      <td>259.844327</td>\n      <td>266.043940</td>\n      <td>234.761000</td>\n      <td>237.426521</td>\n      <td>14.974011</td>\n      <td>199.327822</td>\n      <td>149.498732</td>\n      <td>4.216716</td>\n    </tr>\n  </tbody>\n</table>\n</div>"
     },
     "metadata": {},
     "execution_count": 191
    }
   ],
   "source": [
    "balance.df"
   ]
  },
  {
   "cell_type": "code",
   "execution_count": 197,
   "metadata": {},
   "outputs": [],
   "source": [
    "# Demand DataFrame\n",
    "demand = MyDataFrame(balance.df.iloc[[1,3,4,5,6,7]].T)\n",
    "\n",
    "# Setting unit, title and footer\n",
    "demand.title = 'Brazilian Natural Gas Demand by Consumer – 2010-2019'\n",
    "demand.unit = '10⁶ m³'\n",
    "demand.footer = 'Sources: \\nANP/SIM, as per Ordinance ANP No. 43/98, for imports data; ANP/SDP, as per Decree No. 2.705/98, for  production, reinjection, gas flaring and losses data; Petrobras, for own consumption, NGL and sales data.\\n\\n¹ Refers to Petrobras own consumption in production areas, refineries, NGPP (Natural Gas Power Plant), transportation and storage. \\n² Volume of gas absorbed in NGPPs. \\n³ Sales to distributors, nitrofertilizers plants (Fafen) and electricity generation.'"
   ]
  },
  {
   "cell_type": "code",
   "execution_count": 201,
   "metadata": {},
   "outputs": [],
   "source": [
    "# Demand Total Series\n",
    "demand_total = demand.df.sum(axis=1)\n",
    "\n",
    "# Setting unit, title and footer\n",
    "demand_total_title = 'Brazilian Natural Gas Total Demand – 2010-2019'\n",
    "demand_total_unit = '10⁶ m³'"
   ]
  },
  {
   "cell_type": "markdown",
   "metadata": {},
   "source": [
    "### Natural gas production, per location (onshore and offshore, pre-salt and post-salt), by State – 2010-2019 "
   ]
  },
  {
   "cell_type": "code",
   "execution_count": null,
   "metadata": {},
   "outputs": [],
   "source": [
    "production = MyDataFrame(pd.read_excel(r'data_set/table-1_5.xls', header = [0,2,3], index_col = [0,1]))"
   ]
  },
  {
   "cell_type": "code",
   "execution_count": null,
   "metadata": {
    "tags": []
   },
   "outputs": [],
   "source": [
    "# Dropping Unnamed Column\n",
    "production.drop_unnamed_column()\n",
    "\n",
    "# Correcting Index Supscrit\n",
    "production.index_sups()\n",
    "\n",
    "# Setting unit, title and footer\n",
    "production.unit='10⁶ m³'\n",
    "production.title = 'Natural gas production, per location (onshore and offshore, pre-salt and post-salt), by State – 2010-2019'\n",
    "production.footer = 'Source: \\nANP/SDP, as per Decree No. 2.705/1998.\\n\\nNote: \\nTotal production includes reinjection, gas flaring, losses and own consumption.'"
   ]
  },
  {
   "cell_type": "markdown",
   "metadata": {},
   "source": [
    "### Production of associated and non-associated natural gas, by State – 2010-2019"
   ]
  },
  {
   "cell_type": "code",
   "execution_count": null,
   "metadata": {},
   "outputs": [],
   "source": [
    "gas_type = MyDataFrame(pd.read_excel(r'data_set/table-1_6.xls', header = [0,2,3], index_col = [0,1]))"
   ]
  },
  {
   "cell_type": "code",
   "execution_count": null,
   "metadata": {},
   "outputs": [],
   "source": [
    "# Dropping Unnamed Column\n",
    "gas_type.drop_unnamed_column()\n",
    "\n",
    "# Correcting Index Supscrit\n",
    "\n",
    "\n",
    "# Setting unit, title and footer\n",
    "gas_type.unit='10⁶ m³'\n",
    "gas_type.title = 'Production of associated and non-associated natural gas, by State – 2010-2019'\n",
    "gas_type.footer = 'Source: \\nANP/SDP, as per Decree No. 2.705/1998.\\n\\nNote: \\nTotal production volume includes reinjection, flared gas, losses, own consumption.'"
   ]
  },
  {
   "cell_type": "markdown",
   "metadata": {},
   "source": [
    "### Average Reference Prices for Natural Gas, According to Federation Units - 2010-2019"
   ]
  },
  {
   "cell_type": "code",
   "execution_count": null,
   "metadata": {},
   "outputs": [],
   "source": [
    "avg_price = MyDataFrame(pd.read_excel(r'data_set/anuario-2020-tabela-2_24.xls',  header = [0,2,3,4], index_col = [0]))\n",
    "\n",
    "# Slicing 'US$/mil m³' units only\n",
    "avg_price.df = avg_price.df.iloc[:,10:20]"
   ]
  },
  {
   "cell_type": "code",
   "execution_count": null,
   "metadata": {
    "tags": []
   },
   "outputs": [],
   "source": [
    "# Setting unit, title and footer\n",
    "avg_price.unit='US$/mil m³'\n",
    "avg_price.title = 'Average Reference Prices for Natural Gas, According to Federation Units - 2010-2019'\n",
    "avg_price.footer = 'Source: \\nANP / SPG, according to Law No. 9,478 / 1997, Decree No. 2,705 / 1998 and ANP Ordinance No. 206/2000. \\n\\nNotes: \\n1. Prices in current values. \\n2. Only the Federation units that presented natural gas production in the indicated period are listed. \\n3. The above prices do not serve as a basis for calculating government stakes, since they are weighted averages only for production volumes per field and do not consider royalty and special participation rates per producing field.'"
   ]
  },
  {
   "cell_type": "markdown",
   "metadata": {},
   "source": [
    "### Electric Energy by Source"
   ]
  },
  {
   "cell_type": "code",
   "execution_count": 184,
   "metadata": {},
   "outputs": [],
   "source": [
    "energy_source = pd.read_csv(r'data_set/GeracaoFonte.csv')\n",
    "energy_source.columns = ['ID', 'Energy Type', 'GWh', 'Month', 'Year', 'dthProx']\n",
    "energy_source = MyDataFrame(pd.pivot_table(energy_source, values='GWh', index=['Energy Type'], columns=['Year', 'Month']), drop_level=False)"
   ]
  },
  {
   "cell_type": "code",
   "execution_count": 186,
   "metadata": {},
   "outputs": [],
   "source": [
    "# Setting unit, title and footer\n",
    "energy_source.unit = 'GWh'\n",
    "energy_source.title = 'Electric Energy by Source'"
   ]
  },
  {
   "cell_type": "markdown",
   "metadata": {},
   "source": [
    "### Brazilian Indicators"
   ]
  },
  {
   "cell_type": "code",
   "execution_count": 189,
   "metadata": {},
   "outputs": [],
   "source": [
    "bra_ind = pd.read_csv(r'data_set/API_BRA_DS2_en_csv_v2_1221399.csv', skiprows=[0,1,2,3])"
   ]
  },
  {
   "cell_type": "code",
   "execution_count": null,
   "metadata": {},
   "outputs": [],
   "source": []
  }
 ]
}