{
 "metadata": {
  "language_info": {
   "codemirror_mode": {
    "name": "ipython",
    "version": 3
   },
   "file_extension": ".py",
   "mimetype": "text/x-python",
   "name": "python",
   "nbconvert_exporter": "python",
   "pygments_lexer": "ipython3",
   "version": "3.8.2-final"
  },
  "orig_nbformat": 2,
  "kernelspec": {
   "name": "python38264bit1bc03026842f4e58ab986af81481d738",
   "display_name": "Python 3.8.2 64-bit"
  }
 },
 "nbformat": 4,
 "nbformat_minor": 2,
 "cells": [
  {
   "cell_type": "markdown",
   "metadata": {},
   "source": [
    "# Import"
   ]
  },
  {
   "cell_type": "code",
   "execution_count": 170,
   "metadata": {},
   "outputs": [],
   "source": [
    "import pandas as pd\n",
    "import numpy as np\n",
    "import matplotlib.pyplot as plt\n",
    "%matplotlib inline\n",
    "import datetime\n",
    "\n",
    "from googletrans import Translator"
   ]
  },
  {
   "cell_type": "markdown",
   "metadata": {},
   "source": [
    "# MyDataFrame Class"
   ]
  },
  {
   "cell_type": "code",
   "execution_count": 171,
   "metadata": {},
   "outputs": [],
   "source": [
    "class MyDataFrame: \n",
    "    def __init__(self, df, translate=False, translate_first_level=False, white_space=False, drop_level=True):\n",
    "        \n",
    "        self.df = df\n",
    "        self.translator = Translator()\n",
    "        self.title = ''\n",
    "        self.unit = ''\n",
    "        self.footer = ''\n",
    "        self.translate = translate\n",
    "        self.translate_first_level = translate_first_level\n",
    "        self.white_space= white_space\n",
    "        self.drop_level = drop_level\n",
    "        #self.ratio = (((self.df.iloc[:,-2]-self.df.iloc[:,-3])/self.df.iloc[:,-3])*100).round()\n",
    "        #self.last_column = self.df.iloc[:,-1].replace('..', 0).round()\n",
    "        \n",
    "        self.drop_na()\n",
    "        \n",
    "        if self.df.index.nlevels > 1:\n",
    "            self.title_unit_multiindex();\n",
    "        \n",
    "        if self.drop_level:\n",
    "            self.drop_levels()\n",
    "            \n",
    "        #if (self.ratio == self.last_column).all():\n",
    "        #   self.drop_last_column()\n",
    "        \n",
    "        \n",
    "        if self.translate:\n",
    "            if self.df.index.nlevels == 1:\n",
    "                self.translate_index()\n",
    "                \n",
    "            \n",
    "        if self.translate:\n",
    "            if self.df.index.nlevels > 1:\n",
    "                self.translate_multi_index()\n",
    "        \n",
    "        \n",
    "        if self.white_space:\n",
    "            self.replace_white_space()\n",
    "            \n",
    "            \n",
    "    def title_unit_multiindex(self):\n",
    "        self.title = self.df.columns[0][0]\n",
    "        self.unit = self.df.columns[1][1]\n",
    "            \n",
    "    def drop_levels(self):\n",
    "        \"\"\"\n",
    "        This method drops two column levels that contained the infos previously captured (table's title and unit)\n",
    "        \"\"\"     \n",
    "        while self.df.columns.nlevels>1:\n",
    "            self.df.columns = self.df.columns.droplevel(0)\n",
    "            \n",
    "            \n",
    "    def drop_na(self):\n",
    "        \"\"\"\n",
    "        This method drops all rows and columns that have all values equals to NaN.\n",
    "        \"\"\"  \n",
    "        self.df.dropna(how = 'all', inplace = True)\n",
    "        self.df.dropna(axis = 'columns', how = 'all', inplace = True)\n",
    "\n",
    "    \n",
    "    def translate_index(self):\n",
    "        \"\"\"\n",
    "        This method translates the index of a DataFrame to English.\n",
    "        \"\"\"\n",
    "        self.new_index = []\n",
    "        for index in self.df.index:\n",
    "            if index == 'Reinjeção':\n",
    "                self.new_index.append('Reinjection')\n",
    "            elif (index == 'Espírito Santo') or (index == 'Espirito_Santo'):\n",
    "                self.new_index.append('Espirito_Santo')\n",
    "            elif index == 'Amazonas':\n",
    "                self.new_index.append('Amazonas')\n",
    "            elif index == 'Alagoas':\n",
    "                self.new_index.append('Alagoas')\n",
    "            elif (index == 'Ceará') or (index == 'Ceara'):\n",
    "                self.new_index.append('Ceara')\n",
    "            elif (index == 'Rio Grande do Norte') or (index == 'Rio_Grande_do_Norte'):\n",
    "                self.new_index.append('Rio_Grande_do_Norte')\n",
    "            else:\n",
    "                self.new_index.append(self.translator.translate(index).text)\n",
    "        self.df.index = self.new_index\n",
    "        \n",
    "                        \n",
    "    def translate_multi_index(self):\n",
    "        \"\"\"\n",
    "        This method translates a MultiIndex DataFrame to English.\n",
    "        \"\"\"\n",
    "        \n",
    "        if self.translate_first_level == True:\n",
    "            for i, num in enumerate(self.df.index):\n",
    "                    for j in range(self.df.index.nlevels):       \n",
    "                        if j==0:\n",
    "                            if (self.df.index[i][j] == 'Espírito_Santo') or (self.df.index[i][j] == 'Espirito_Santo'):\n",
    "                                self.df.index = self.df.index.set_levels(self.df.index.levels[j].str.replace('Espírito_Santo','Espirito_Santo'), level = j)\n",
    "                            elif self.df.index[i][j] == 'Amazonas':\n",
    "                                self.df.index = self.df.index.set_levels(self.df.index.levels[j].str.replace('Amazonas','Amazonas'), level = j)\n",
    "                            elif self.df.index[i][j] == 'Alagoas':\n",
    "                                self.df.index = self.df.index.set_levels(self.df.index.levels[j].str.replace('Alagoas','Alagoas'), level = j)\n",
    "                            elif (self.df.index[i][j] == 'Ceará') or (self.df.index[i][j] == 'Ceara'):\n",
    "                                self.df.index = self.df.index.set_levels(self.df.index.levels[j].str.replace('Ceará','Ceara'), level = j)\n",
    "                            elif (self.df.index[i][j] == 'Rio Grande do Norte') or (self.df.index[i][j] == 'Rio_Grande_do_Norte'):\n",
    "                                self.df.index = self.df.index.set_levels(self.df.index.levels[j].str.replace(' ','_'), level = j)\n",
    "                            else:\n",
    "                                self.df.index = self.df.index.set_levels(self.df.index.levels[j].str.replace(self.df.index[i][j], self.translator.translate(self.df.index[i][j]).text), level = j)\n",
    "        \n",
    "        for i, num in enumerate(self.df.index):\n",
    "            for j in range(self.df.index.nlevels):\n",
    "                if j==0:\n",
    "                    pass\n",
    "                if j==1:\n",
    "                    if self.df.index[i][j] == 'Mar': # checks if one of the words that the translate package can not translate\n",
    "                        self.df.index = self.df.index.set_levels(self.df.index.levels[j].str.replace('Mar','Offshore'), level = j)\n",
    "                    elif self.df.index[i][j] == 'Terra': # checks if one of the words that the translate package can not translate\n",
    "                        self.df.index = self.df.index.set_levels(self.df.index.levels[j].str.replace('Terra','Onshore'), level = j)\n",
    "                    elif not isinstance(self.df.index[i][j], str):\n",
    "                        pass\n",
    "                    else:\n",
    "                        self.df.index = self.df.index.set_levels(self.df.index.levels[j].str.replace(self.df.index[i][j], self.translator.translate(self.df.index[i][j]).text), level = j)\n",
    "        \n",
    "        \n",
    "    def replace_underscore(self):\n",
    "        \"\"\"\n",
    "        This method replaces all underscore for white space.\n",
    "        \"\"\"\n",
    "        if self.df.index.nlevels > 1: # tells how many level are\n",
    "            for i, level in enumerate(range(self.df.index.nlevels)): # runs through levels\n",
    "                #for j, value in enumerate(self.df.index.levels[i]): # runs through the level's value and replace white space for underline\n",
    "                self.df.index = self.df.index.set_levels(self.df.index.levels[i].str.replace(\"_\", \" \"), level = i)\n",
    "        \n",
    "        elif self.df.index.nlevels == 1:\n",
    "            self.new_index = []\n",
    "            for index in self.df.index:\n",
    "                self.new_index.append(index.replace('_', ' '))\n",
    "            self.df.index = self.new_index\n",
    "            \n",
    "            \n",
    "    def drop_unnamed_column(self):\n",
    "        \"\"\"\n",
    "        This method drops the last column if it is a ration between columns[-2] and columns[-3] .\n",
    "        \"\"\"            \n",
    "        for i,name in enumerate(total_reserves.df.columns):\n",
    "            if type(name) == str and name.startswith('Unnamed'):\n",
    "                self.df = self.df.drop(self.df.columns[-1], axis=1)"
   ]
  },
  {
   "cell_type": "markdown",
   "metadata": {},
   "source": [
    "# Load and Wrangling"
   ]
  },
  {
   "cell_type": "markdown",
   "metadata": {},
   "source": [
    "### Total¹ Reserves of Natural Gas, by Location (Shore and Offshore), according to Federation² Units - 2010-2019"
   ]
  },
  {
   "cell_type": "code",
   "execution_count": 172,
   "metadata": {},
   "outputs": [],
   "source": [
    "total_reserves = MyDataFrame(pd.read_excel(r'data_set/anuario-2020-tabela-2_5.xls',  header = [0,2,3], index_col = [0,1]), translate=True,)"
   ]
  },
  {
   "cell_type": "code",
   "execution_count": 173,
   "metadata": {
    "tags": []
   },
   "outputs": [],
   "source": [
    "#dropping Unnamed column\n",
    "total_reserves.drop_unnamed_column()\n",
    "\n",
    "# Setting unit, title and footer\n",
    "total_reserves.unit = '10⁶ m³'\n",
    "total_reserves.title = 'Total¹ Reserves of Natural Gas, by Location (Shore and Offshore), according to Federation² Units - 2010-2019'\n",
    "total_reserves.footer ='Notes:\\n1. Reserves on 12/31 of the reference years.\\n2. See the General Notes item on \"Brazilian Oil and Natural Gas Reserves\".\\n\\nSource:\\nANP / SDP, according to ANP Resolution No. 47/2014.\\n\\n¹ Including reserves whose fields Development Plans are under analysis.\\n² The reserves are fully appropriated to the state in which each field has its area mostly located.\\n³ The Roncador and Frade field reserves are fully appropriated in the State of Rio de Janeiro, for simplification.\\n⁴ The Sapinhoá field reserves are fully appropriated in the State of São Paulo for simplification.\\n⁵ The reserves in the Caravela field are fully appropriated in the State of Paraná, for simplification.\\n⁶ The Tubarão field reserves are fully appropriated in the State of Santa Catarina, for simplification.\\n'\n",
    "\n",
    "# Correcting Index Supscrit\n",
    "total_reserves.df.index = total_reserves.df.index.set_levels(total_reserves.df.index.levels[0].str.replace('3','³'), level = 0)\n",
    "total_reserves.df.index = total_reserves.df.index.set_levels(total_reserves.df.index.levels[0].str.replace('4','⁴'), level = 0)\n",
    "total_reserves.df.index = total_reserves.df.index.set_levels(total_reserves.df.index.levels[0].str.replace('5','⁵'), level = 0)\n",
    "total_reserves.df.index = total_reserves.df.index.set_levels(total_reserves.df.index.levels[0].str.replace('6','⁶'), level = 0)"
   ]
  },
  {
   "cell_type": "code",
   "execution_count": 175,
   "metadata": {},
   "outputs": [
    {
     "output_type": "execute_result",
     "data": {
      "text/plain": "                                     2010         2011           2012  \\\nTotal               NaN       824723.2222  906530.6250  918568.744479   \nSubtotal            Onshore   117227.0756  118523.9164  140979.405510   \n                    Offshore  707496.1466  788006.7086  777589.338969   \nAmazonas            Onshore    94456.2943   95742.7805   89236.607701   \nMaranhão            Onshore        0.0000       0.0000   29704.588918   \nCeará               Onshore        0.0000       0.0000       0.000000   \n                    Offshore    1447.0109     993.2576     453.825274   \nRio Grande do Norte Onshore     2188.7258    2277.2275    3274.698434   \n                    Offshore   11354.6855   12038.6400   10401.348605   \nAlagoas             Onshore     4173.3458    4335.7954    4222.946555   \n                    Offshore    1085.0791     981.4851     761.581879   \nSergipe             Onshore     1483.7181    1912.6821    1756.306837   \n                    Offshore    4303.3330    4054.9647    5209.844818   \nBahia               Onshore    13379.3620   12510.5730   12055.517895   \n                    Offshore   30746.4516   29073.5249   28059.276773   \nEspírito Santo      Onshore      731.6895     919.2594     728.739170   \n                    Offshore   87033.6847   77694.3402  103074.727321   \nRio de Janeiro³     Offshore  504641.5344  551842.4858  531125.011121   \nSão Paulo⁴          Offshore   62946.0060  107109.4087   94267.612565   \nParaná⁵             Onshore      813.9401     825.5985       0.000000   \n                    Offshore    1261.0771    1289.5173    1307.931554   \nSanta Catarina⁶     Offshore    2677.2843    2929.0843    2928.179059   \n\n                                       2013           2014           2015  \\\nTotal               NaN       839505.828677  859771.266519  745909.598497   \nSubtotal            Onshore   116584.502060  100997.980118   86575.414520   \n                    Offshore  722921.326617  758773.286402  659334.183977   \nAmazonas            Onshore    86963.304124   74486.059396   51225.378088   \nMaranhão            Onshore     8651.926596    8405.637236   17677.180558   \nCeará               Onshore        0.000000       6.570600       0.000013   \n                    Offshore     741.638800     502.907578     255.940367   \nRio Grande do Norte Onshore     2548.927338    2209.704036    2108.822494   \n                    Offshore    9088.218790    8224.919170    2480.262648   \nAlagoas             Onshore     4335.349042    3757.148426    2907.716600   \n                    Offshore     656.364427     583.409393     502.253362   \nSergipe             Onshore     1813.597175    1729.969541    1565.341565   \n                    Offshore    4813.045188    4185.986279    4776.685762   \nBahia               Onshore    11553.313029    9452.474279   10324.102107   \n                    Offshore   24742.758601   24036.375003   13944.709525   \nEspírito Santo      Onshore      718.084756     950.416605     766.873096   \n                    Offshore   91556.894290   90662.524080   78963.731705   \nRio de Janeiro³     Offshore  507841.346935  555349.991275  490571.901104   \nSão Paulo⁴          Offshore   79254.969675   75227.173624   67838.699504   \nParaná⁵             Onshore        0.000000       0.000000       0.000000   \n                    Offshore    1298.040442       0.000000       0.000000   \nSanta Catarina⁶     Offshore    2928.049469       0.000000       0.000000   \n\n                                       2016           2017           2018  \\\nTotal               NaN       636834.920174  608459.147019  569998.888059   \nSubtotal            Onshore    76258.568968   78741.612353   83062.695891   \n                    Offshore  560576.351207  529717.534666  486936.192167   \nAmazonas            Onshore    38686.313838   40757.087244   41073.851358   \nMaranhão            Onshore    20412.202124   20822.208328   25720.764998   \nCeará               Onshore        0.000000       0.000000       0.000000   \n                    Offshore     509.988719     216.941968     359.900728   \nRio Grande do Norte Onshore     2241.067176    2257.910304    2068.118770   \n                    Offshore    2730.003308    2406.322124    2827.338358   \nAlagoas             Onshore     2626.874231    2482.939963    2246.129660   \n                    Offshore     456.203076     394.974267     341.389638   \nSergipe             Onshore     1628.990260    1591.534629    1332.450107   \n                    Offshore    2751.732060    1255.148418     157.597283   \nBahia               Onshore     9833.380020   10344.295558   10206.270014   \n                    Offshore   12193.638178   11326.068866    8328.300505   \nEspírito Santo      Onshore      829.741319     485.636327     415.110985   \n                    Offshore   84659.772049   67580.344474   54055.948959   \nRio de Janeiro³     Offshore  397437.911103  386610.590262  372546.577377   \nSão Paulo⁴          Offshore   59837.102714   59927.144287   48319.139320   \nParaná⁵             Onshore        0.000000       0.000000       0.000000   \n                    Offshore       0.000000       0.000000       0.000000   \nSanta Catarina⁶     Offshore       0.000000       0.000000       0.000000   \n\n                                  2019  \nTotal               NaN       548989.0  \nSubtotal            Onshore    83063.0  \n                    Offshore  465926.0  \nAmazonas            Onshore    45300.0  \nMaranhão            Onshore    25127.0  \nCeará               Onshore        0.0  \n                    Offshore     327.0  \nRio Grande do Norte Onshore     1697.0  \n                    Offshore    2975.0  \nAlagoas             Onshore     1781.0  \n                    Offshore     231.0  \nSergipe             Onshore      854.0  \n                    Offshore     504.0  \nBahia               Onshore     8077.0  \n                    Offshore    7693.0  \nEspírito Santo      Onshore      227.0  \n                    Offshore   47804.0  \nRio de Janeiro³     Offshore  374731.0  \nSão Paulo⁴          Offshore   31661.0  \nParaná⁵             Onshore        0.0  \n                    Offshore       0.0  \nSanta Catarina⁶     Offshore       0.0  ",
      "text/html": "<div>\n<style scoped>\n    .dataframe tbody tr th:only-of-type {\n        vertical-align: middle;\n    }\n\n    .dataframe tbody tr th {\n        vertical-align: top;\n    }\n\n    .dataframe thead th {\n        text-align: right;\n    }\n</style>\n<table border=\"1\" class=\"dataframe\">\n  <thead>\n    <tr style=\"text-align: right;\">\n      <th></th>\n      <th></th>\n      <th>2010</th>\n      <th>2011</th>\n      <th>2012</th>\n      <th>2013</th>\n      <th>2014</th>\n      <th>2015</th>\n      <th>2016</th>\n      <th>2017</th>\n      <th>2018</th>\n      <th>2019</th>\n    </tr>\n  </thead>\n  <tbody>\n    <tr>\n      <th>Total</th>\n      <th>NaN</th>\n      <td>824723.2222</td>\n      <td>906530.6250</td>\n      <td>918568.744479</td>\n      <td>839505.828677</td>\n      <td>859771.266519</td>\n      <td>745909.598497</td>\n      <td>636834.920174</td>\n      <td>608459.147019</td>\n      <td>569998.888059</td>\n      <td>548989.0</td>\n    </tr>\n    <tr>\n      <th rowspan=\"2\" valign=\"top\">Subtotal</th>\n      <th>Onshore</th>\n      <td>117227.0756</td>\n      <td>118523.9164</td>\n      <td>140979.405510</td>\n      <td>116584.502060</td>\n      <td>100997.980118</td>\n      <td>86575.414520</td>\n      <td>76258.568968</td>\n      <td>78741.612353</td>\n      <td>83062.695891</td>\n      <td>83063.0</td>\n    </tr>\n    <tr>\n      <th>Offshore</th>\n      <td>707496.1466</td>\n      <td>788006.7086</td>\n      <td>777589.338969</td>\n      <td>722921.326617</td>\n      <td>758773.286402</td>\n      <td>659334.183977</td>\n      <td>560576.351207</td>\n      <td>529717.534666</td>\n      <td>486936.192167</td>\n      <td>465926.0</td>\n    </tr>\n    <tr>\n      <th>Amazonas</th>\n      <th>Onshore</th>\n      <td>94456.2943</td>\n      <td>95742.7805</td>\n      <td>89236.607701</td>\n      <td>86963.304124</td>\n      <td>74486.059396</td>\n      <td>51225.378088</td>\n      <td>38686.313838</td>\n      <td>40757.087244</td>\n      <td>41073.851358</td>\n      <td>45300.0</td>\n    </tr>\n    <tr>\n      <th>Maranhão</th>\n      <th>Onshore</th>\n      <td>0.0000</td>\n      <td>0.0000</td>\n      <td>29704.588918</td>\n      <td>8651.926596</td>\n      <td>8405.637236</td>\n      <td>17677.180558</td>\n      <td>20412.202124</td>\n      <td>20822.208328</td>\n      <td>25720.764998</td>\n      <td>25127.0</td>\n    </tr>\n    <tr>\n      <th rowspan=\"2\" valign=\"top\">Ceará</th>\n      <th>Onshore</th>\n      <td>0.0000</td>\n      <td>0.0000</td>\n      <td>0.000000</td>\n      <td>0.000000</td>\n      <td>6.570600</td>\n      <td>0.000013</td>\n      <td>0.000000</td>\n      <td>0.000000</td>\n      <td>0.000000</td>\n      <td>0.0</td>\n    </tr>\n    <tr>\n      <th>Offshore</th>\n      <td>1447.0109</td>\n      <td>993.2576</td>\n      <td>453.825274</td>\n      <td>741.638800</td>\n      <td>502.907578</td>\n      <td>255.940367</td>\n      <td>509.988719</td>\n      <td>216.941968</td>\n      <td>359.900728</td>\n      <td>327.0</td>\n    </tr>\n    <tr>\n      <th rowspan=\"2\" valign=\"top\">Rio Grande do Norte</th>\n      <th>Onshore</th>\n      <td>2188.7258</td>\n      <td>2277.2275</td>\n      <td>3274.698434</td>\n      <td>2548.927338</td>\n      <td>2209.704036</td>\n      <td>2108.822494</td>\n      <td>2241.067176</td>\n      <td>2257.910304</td>\n      <td>2068.118770</td>\n      <td>1697.0</td>\n    </tr>\n    <tr>\n      <th>Offshore</th>\n      <td>11354.6855</td>\n      <td>12038.6400</td>\n      <td>10401.348605</td>\n      <td>9088.218790</td>\n      <td>8224.919170</td>\n      <td>2480.262648</td>\n      <td>2730.003308</td>\n      <td>2406.322124</td>\n      <td>2827.338358</td>\n      <td>2975.0</td>\n    </tr>\n    <tr>\n      <th rowspan=\"2\" valign=\"top\">Alagoas</th>\n      <th>Onshore</th>\n      <td>4173.3458</td>\n      <td>4335.7954</td>\n      <td>4222.946555</td>\n      <td>4335.349042</td>\n      <td>3757.148426</td>\n      <td>2907.716600</td>\n      <td>2626.874231</td>\n      <td>2482.939963</td>\n      <td>2246.129660</td>\n      <td>1781.0</td>\n    </tr>\n    <tr>\n      <th>Offshore</th>\n      <td>1085.0791</td>\n      <td>981.4851</td>\n      <td>761.581879</td>\n      <td>656.364427</td>\n      <td>583.409393</td>\n      <td>502.253362</td>\n      <td>456.203076</td>\n      <td>394.974267</td>\n      <td>341.389638</td>\n      <td>231.0</td>\n    </tr>\n    <tr>\n      <th rowspan=\"2\" valign=\"top\">Sergipe</th>\n      <th>Onshore</th>\n      <td>1483.7181</td>\n      <td>1912.6821</td>\n      <td>1756.306837</td>\n      <td>1813.597175</td>\n      <td>1729.969541</td>\n      <td>1565.341565</td>\n      <td>1628.990260</td>\n      <td>1591.534629</td>\n      <td>1332.450107</td>\n      <td>854.0</td>\n    </tr>\n    <tr>\n      <th>Offshore</th>\n      <td>4303.3330</td>\n      <td>4054.9647</td>\n      <td>5209.844818</td>\n      <td>4813.045188</td>\n      <td>4185.986279</td>\n      <td>4776.685762</td>\n      <td>2751.732060</td>\n      <td>1255.148418</td>\n      <td>157.597283</td>\n      <td>504.0</td>\n    </tr>\n    <tr>\n      <th rowspan=\"2\" valign=\"top\">Bahia</th>\n      <th>Onshore</th>\n      <td>13379.3620</td>\n      <td>12510.5730</td>\n      <td>12055.517895</td>\n      <td>11553.313029</td>\n      <td>9452.474279</td>\n      <td>10324.102107</td>\n      <td>9833.380020</td>\n      <td>10344.295558</td>\n      <td>10206.270014</td>\n      <td>8077.0</td>\n    </tr>\n    <tr>\n      <th>Offshore</th>\n      <td>30746.4516</td>\n      <td>29073.5249</td>\n      <td>28059.276773</td>\n      <td>24742.758601</td>\n      <td>24036.375003</td>\n      <td>13944.709525</td>\n      <td>12193.638178</td>\n      <td>11326.068866</td>\n      <td>8328.300505</td>\n      <td>7693.0</td>\n    </tr>\n    <tr>\n      <th rowspan=\"2\" valign=\"top\">Espírito Santo</th>\n      <th>Onshore</th>\n      <td>731.6895</td>\n      <td>919.2594</td>\n      <td>728.739170</td>\n      <td>718.084756</td>\n      <td>950.416605</td>\n      <td>766.873096</td>\n      <td>829.741319</td>\n      <td>485.636327</td>\n      <td>415.110985</td>\n      <td>227.0</td>\n    </tr>\n    <tr>\n      <th>Offshore</th>\n      <td>87033.6847</td>\n      <td>77694.3402</td>\n      <td>103074.727321</td>\n      <td>91556.894290</td>\n      <td>90662.524080</td>\n      <td>78963.731705</td>\n      <td>84659.772049</td>\n      <td>67580.344474</td>\n      <td>54055.948959</td>\n      <td>47804.0</td>\n    </tr>\n    <tr>\n      <th>Rio de Janeiro³</th>\n      <th>Offshore</th>\n      <td>504641.5344</td>\n      <td>551842.4858</td>\n      <td>531125.011121</td>\n      <td>507841.346935</td>\n      <td>555349.991275</td>\n      <td>490571.901104</td>\n      <td>397437.911103</td>\n      <td>386610.590262</td>\n      <td>372546.577377</td>\n      <td>374731.0</td>\n    </tr>\n    <tr>\n      <th>São Paulo⁴</th>\n      <th>Offshore</th>\n      <td>62946.0060</td>\n      <td>107109.4087</td>\n      <td>94267.612565</td>\n      <td>79254.969675</td>\n      <td>75227.173624</td>\n      <td>67838.699504</td>\n      <td>59837.102714</td>\n      <td>59927.144287</td>\n      <td>48319.139320</td>\n      <td>31661.0</td>\n    </tr>\n    <tr>\n      <th rowspan=\"2\" valign=\"top\">Paraná⁵</th>\n      <th>Onshore</th>\n      <td>813.9401</td>\n      <td>825.5985</td>\n      <td>0.000000</td>\n      <td>0.000000</td>\n      <td>0.000000</td>\n      <td>0.000000</td>\n      <td>0.000000</td>\n      <td>0.000000</td>\n      <td>0.000000</td>\n      <td>0.0</td>\n    </tr>\n    <tr>\n      <th>Offshore</th>\n      <td>1261.0771</td>\n      <td>1289.5173</td>\n      <td>1307.931554</td>\n      <td>1298.040442</td>\n      <td>0.000000</td>\n      <td>0.000000</td>\n      <td>0.000000</td>\n      <td>0.000000</td>\n      <td>0.000000</td>\n      <td>0.0</td>\n    </tr>\n    <tr>\n      <th>Santa Catarina⁶</th>\n      <th>Offshore</th>\n      <td>2677.2843</td>\n      <td>2929.0843</td>\n      <td>2928.179059</td>\n      <td>2928.049469</td>\n      <td>0.000000</td>\n      <td>0.000000</td>\n      <td>0.000000</td>\n      <td>0.000000</td>\n      <td>0.000000</td>\n      <td>0.0</td>\n    </tr>\n  </tbody>\n</table>\n</div>"
     },
     "metadata": {},
     "execution_count": 175
    }
   ],
   "source": [
    "total_reserves.df"
   ]
  },
  {
   "cell_type": "code",
   "execution_count": 176,
   "metadata": {
    "tags": []
   },
   "outputs": [],
   "source": [
    "for i, index in enumerate(total_reserves.df.index.levels[0]):\n",
    "    total_reserves.df.index.levels[0][i].replace('1','¹')\n",
    "    total_reserves.df.index.levels[0][i].replace('2','²')\n",
    "    total_reserves.df.index.levels[0][i].replace('3','³')\n",
    "    total_reserves.df.index.levels[0][i].replace('4','⁴')\n",
    "    total_reserves.df.index.levels[0][i].replace('5','⁵')\n",
    "    total_reserves.df.index.levels[0][i].replace('6','⁶')\n",
    "    total_reserves.df.index.levels[0][i].replace('7','⁷')\n",
    "    total_reserves.df.index.levels[0][i].replace('8','⁸')\n",
    "    total_reserves.df.index.levels[0][i].replace('9','⁹')"
   ]
  },
  {
   "cell_type": "markdown",
   "metadata": {},
   "source": [
    "### Evolution of Natural Gas Processing Capacity, According to Production Centers - 2010-2019"
   ]
  },
  {
   "cell_type": "code",
   "execution_count": 177,
   "metadata": {},
   "outputs": [],
   "source": [
    "processing = MyDataFrame(pd.read_excel(r'data_set/anuario-2020-tabela-2_30.xls',  header = [0,2,3], index_col = [0]))"
   ]
  },
  {
   "cell_type": "code",
   "execution_count": 178,
   "metadata": {
    "tags": []
   },
   "outputs": [],
   "source": [
    "# Setting unit, title and footer\n",
    "processing.unit = '10³ m³/dia'\n",
    "processing.title = 'Evolution of Natural Gas Processing Capacity, According to Production Centers - 2010-2019'\n",
    "processing.footer = '¹ Volume in the gaseous state.\\n² Includes the UPGNs (Natural Gas Production Units) in Catu and Bahia until 2013. From 2014, only includes Catu.'"
   ]
  },
  {
   "cell_type": "markdown",
   "metadata": {},
   "source": [
    "### Proved Reserved"
   ]
  },
  {
   "cell_type": "code",
   "execution_count": 179,
   "metadata": {},
   "outputs": [],
   "source": [
    "proved_reserves = MyDataFrame(pd.read_excel(r'data_set/table-1_2.xls', header = [0,2,3], index_col = [0,1]))"
   ]
  },
  {
   "cell_type": "code",
   "execution_count": 180,
   "metadata": {
    "tags": []
   },
   "outputs": [
    {
     "output_type": "stream",
     "name": "stdout",
     "text": "Unnamed: 12_level_2\n"
    }
   ],
   "source": [
    "# Dropping Unnamed Column\n",
    "proved_reserves.drop_unnamed_column()\n",
    "\n",
    "for name in proved_reserves.df.columns:\n",
    "    if type(name)==str and name.startswith('Unnamed'):\n",
    "        print(name)"
   ]
  },
  {
   "cell_type": "code",
   "execution_count": 181,
   "metadata": {},
   "outputs": [
    {
     "output_type": "execute_result",
     "data": {
      "text/plain": "                                2010         2011           2012  \\\nBrazil              NaN       423003  459403.2990  459187.425652   \nSubtotal            Onshore    68803   70576.7220   72374.939592   \n                    Offshore  354200  388826.5770  386812.486060   \nAmazonas            Onshore    55878   57454.5421   51816.022349   \nMaranhão            Onshore     -          0.0000    7285.712918   \nCeará               Offshore     652     528.2066     386.578242   \nRio Grande do Norte Onshore     1418    1464.2603    2549.515862   \n                    Offshore    8676    7645.3401    7296.900782   \nAlagoas             Onshore     2391    2515.4725    2739.945289   \n                    Offshore    1085     981.4851     761.581879   \nSergipe             Onshore     1039    1432.6170    1460.099035   \n                    Offshore    2588    2323.1322    3421.662230   \nBahia               Onshore     7356    6843.8661    5988.332034   \n                    Offshore   26161   23708.1683   24289.975467   \nEspírito Santo      Onshore      587     716.8581     535.312105   \n                    Offshore   44025   43630.9721   42589.737557   \nRio de Janeiro3     Offshore  220506  249983.8568  246438.385470   \nSão Paulo4          Offshore   49373   58882.3934   60336.173351   \nParaná5             Onshore      134     149.1059       0.000000   \n                    Offshore     904     913.0787    1061.758783   \nSanta Catarina6     Offshore     230     229.9437     229.732299   \n\n                                       2013           2014           2015  \\\nBrazil              NaN       457960.408587  471094.528310  429957.687363   \nSubtotal            Onshore    69711.281247   71209.759856   70898.575363   \n                    Offshore  388249.127340  399884.768454  359059.111999   \nAmazonas            Onshore    50522.319249   52382.746618   46661.677237   \nMaranhão            Onshore     6990.217596    7770.499588   12747.681137   \nCeará               Offshore     458.249387     325.491774     255.940367   \nRio Grande do Norte Onshore     1682.498005    1361.556831    1696.878793   \n                    Offshore    5613.632255    5253.685492    2256.649235   \nAlagoas             Onshore     2480.190476    2005.645021    1525.978796   \n                    Offshore     656.364427     583.409393     502.253362   \nSergipe             Onshore     1555.492027    1501.844957    1373.350649   \n                    Offshore    3397.609472    2960.834551    1580.677145   \nBahia               Onshore     5912.199180    5594.854979    6336.554473   \n                    Offshore   20374.186229   17970.912247   11948.820710   \nEspírito Santo      Onshore      568.364715     592.611862     556.454279   \n                    Offshore   42862.986840   43687.364201   36907.154077   \nRio de Janeiro3     Offshore  257192.477821  274684.618543  256206.525310   \nSão Paulo4          Offshore   56406.023991   54418.452253   49401.091793   \nParaná5             Onshore        0.000000       0.000000       0.000000   \n                    Offshore    1057.653208       0.000000       0.000000   \nSanta Catarina6     Offshore     229.943710       0.000000       0.000000   \n\n                                       2016           2017           2018  \\\nBrazil              NaN       377406.264803  369431.883952  368910.743505   \nSubtotal            Onshore    61865.056844   66137.727803   69839.462088   \n                    Offshore  315541.207959  303294.156148  299071.281418   \nAmazonas            Onshore    36198.064198   39188.462631   38891.194229   \nMaranhão            Onshore    15772.479759   16516.218328   20672.464998   \nCeará               Offshore     257.611324     197.491929     353.805202   \nRio Grande do Norte Onshore     1656.573966    1599.120068    1599.208235   \n                    Offshore    2164.444988    1909.612504    1849.741032   \nAlagoas             Onshore     1295.394608    1159.847270     875.077823   \n                    Offshore     456.203076     394.974267     341.389638   \nSergipe             Onshore     1151.719144    1030.916448    1085.754359   \n                    Offshore    1062.023432     966.753321      81.650283   \nBahia               Onshore     5115.812770    6238.336790    6482.395650   \n                    Offshore    9690.142128    8296.289173    5800.692768   \nEspírito Santo      Onshore      675.012399     404.826268     233.366794   \n                    Offshore   31793.580057   30690.431293   31525.294524   \nRio de Janeiro3     Offshore  230848.697736  223840.510197  230674.738935   \nSão Paulo4          Offshore   39268.505218   36998.093464   28443.969036   \nParaná5             Onshore        0.000000       0.000000       0.000000   \n                    Offshore       0.000000       0.000000       0.000000   \nSanta Catarina6     Offshore       0.000000       0.000000       0.000000   \n\n                                  2019 Unnamed: 12_level_2  \nBrazil              NaN       363995.0             -1.3325  \nSubtotal            Onshore    68081.0            -2.51786  \n                    Offshore  295914.0             -1.0557  \nAmazonas            Onshore    37821.0            -2.75176  \nMaranhão            Onshore    21375.0             3.39841  \nCeará               Offshore     321.0            -9.27211  \nRio Grande do Norte Onshore     1440.0            -9.95544  \n                    Offshore    1842.0           -0.418493  \nAlagoas             Onshore      852.0            -2.63723  \n                    Offshore     231.0            -32.3354  \nSergipe             Onshore      771.0            -28.9895  \n                    Offshore     159.0             94.7329  \nBahia               Onshore     5672.0            -12.5015  \n                    Offshore    3968.0            -31.5944  \nEspírito Santo      Onshore      150.0            -35.7235  \n                    Offshore   31566.0             0.12912  \nRio de Janeiro3     Offshore  233896.0             1.39645  \nSão Paulo4          Offshore   23931.0            -15.8662  \nParaná5             Onshore        0.0                  ..  \n                    Offshore       0.0                  ..  \nSanta Catarina6     Offshore       0.0                  ..  ",
      "text/html": "<div>\n<style scoped>\n    .dataframe tbody tr th:only-of-type {\n        vertical-align: middle;\n    }\n\n    .dataframe tbody tr th {\n        vertical-align: top;\n    }\n\n    .dataframe thead th {\n        text-align: right;\n    }\n</style>\n<table border=\"1\" class=\"dataframe\">\n  <thead>\n    <tr style=\"text-align: right;\">\n      <th></th>\n      <th></th>\n      <th>2010</th>\n      <th>2011</th>\n      <th>2012</th>\n      <th>2013</th>\n      <th>2014</th>\n      <th>2015</th>\n      <th>2016</th>\n      <th>2017</th>\n      <th>2018</th>\n      <th>2019</th>\n      <th>Unnamed: 12_level_2</th>\n    </tr>\n  </thead>\n  <tbody>\n    <tr>\n      <th>Brazil</th>\n      <th>NaN</th>\n      <td>423003</td>\n      <td>459403.2990</td>\n      <td>459187.425652</td>\n      <td>457960.408587</td>\n      <td>471094.528310</td>\n      <td>429957.687363</td>\n      <td>377406.264803</td>\n      <td>369431.883952</td>\n      <td>368910.743505</td>\n      <td>363995.0</td>\n      <td>-1.3325</td>\n    </tr>\n    <tr>\n      <th rowspan=\"2\" valign=\"top\">Subtotal</th>\n      <th>Onshore</th>\n      <td>68803</td>\n      <td>70576.7220</td>\n      <td>72374.939592</td>\n      <td>69711.281247</td>\n      <td>71209.759856</td>\n      <td>70898.575363</td>\n      <td>61865.056844</td>\n      <td>66137.727803</td>\n      <td>69839.462088</td>\n      <td>68081.0</td>\n      <td>-2.51786</td>\n    </tr>\n    <tr>\n      <th>Offshore</th>\n      <td>354200</td>\n      <td>388826.5770</td>\n      <td>386812.486060</td>\n      <td>388249.127340</td>\n      <td>399884.768454</td>\n      <td>359059.111999</td>\n      <td>315541.207959</td>\n      <td>303294.156148</td>\n      <td>299071.281418</td>\n      <td>295914.0</td>\n      <td>-1.0557</td>\n    </tr>\n    <tr>\n      <th>Amazonas</th>\n      <th>Onshore</th>\n      <td>55878</td>\n      <td>57454.5421</td>\n      <td>51816.022349</td>\n      <td>50522.319249</td>\n      <td>52382.746618</td>\n      <td>46661.677237</td>\n      <td>36198.064198</td>\n      <td>39188.462631</td>\n      <td>38891.194229</td>\n      <td>37821.0</td>\n      <td>-2.75176</td>\n    </tr>\n    <tr>\n      <th>Maranhão</th>\n      <th>Onshore</th>\n      <td>-</td>\n      <td>0.0000</td>\n      <td>7285.712918</td>\n      <td>6990.217596</td>\n      <td>7770.499588</td>\n      <td>12747.681137</td>\n      <td>15772.479759</td>\n      <td>16516.218328</td>\n      <td>20672.464998</td>\n      <td>21375.0</td>\n      <td>3.39841</td>\n    </tr>\n    <tr>\n      <th>Ceará</th>\n      <th>Offshore</th>\n      <td>652</td>\n      <td>528.2066</td>\n      <td>386.578242</td>\n      <td>458.249387</td>\n      <td>325.491774</td>\n      <td>255.940367</td>\n      <td>257.611324</td>\n      <td>197.491929</td>\n      <td>353.805202</td>\n      <td>321.0</td>\n      <td>-9.27211</td>\n    </tr>\n    <tr>\n      <th rowspan=\"2\" valign=\"top\">Rio Grande do Norte</th>\n      <th>Onshore</th>\n      <td>1418</td>\n      <td>1464.2603</td>\n      <td>2549.515862</td>\n      <td>1682.498005</td>\n      <td>1361.556831</td>\n      <td>1696.878793</td>\n      <td>1656.573966</td>\n      <td>1599.120068</td>\n      <td>1599.208235</td>\n      <td>1440.0</td>\n      <td>-9.95544</td>\n    </tr>\n    <tr>\n      <th>Offshore</th>\n      <td>8676</td>\n      <td>7645.3401</td>\n      <td>7296.900782</td>\n      <td>5613.632255</td>\n      <td>5253.685492</td>\n      <td>2256.649235</td>\n      <td>2164.444988</td>\n      <td>1909.612504</td>\n      <td>1849.741032</td>\n      <td>1842.0</td>\n      <td>-0.418493</td>\n    </tr>\n    <tr>\n      <th rowspan=\"2\" valign=\"top\">Alagoas</th>\n      <th>Onshore</th>\n      <td>2391</td>\n      <td>2515.4725</td>\n      <td>2739.945289</td>\n      <td>2480.190476</td>\n      <td>2005.645021</td>\n      <td>1525.978796</td>\n      <td>1295.394608</td>\n      <td>1159.847270</td>\n      <td>875.077823</td>\n      <td>852.0</td>\n      <td>-2.63723</td>\n    </tr>\n    <tr>\n      <th>Offshore</th>\n      <td>1085</td>\n      <td>981.4851</td>\n      <td>761.581879</td>\n      <td>656.364427</td>\n      <td>583.409393</td>\n      <td>502.253362</td>\n      <td>456.203076</td>\n      <td>394.974267</td>\n      <td>341.389638</td>\n      <td>231.0</td>\n      <td>-32.3354</td>\n    </tr>\n    <tr>\n      <th rowspan=\"2\" valign=\"top\">Sergipe</th>\n      <th>Onshore</th>\n      <td>1039</td>\n      <td>1432.6170</td>\n      <td>1460.099035</td>\n      <td>1555.492027</td>\n      <td>1501.844957</td>\n      <td>1373.350649</td>\n      <td>1151.719144</td>\n      <td>1030.916448</td>\n      <td>1085.754359</td>\n      <td>771.0</td>\n      <td>-28.9895</td>\n    </tr>\n    <tr>\n      <th>Offshore</th>\n      <td>2588</td>\n      <td>2323.1322</td>\n      <td>3421.662230</td>\n      <td>3397.609472</td>\n      <td>2960.834551</td>\n      <td>1580.677145</td>\n      <td>1062.023432</td>\n      <td>966.753321</td>\n      <td>81.650283</td>\n      <td>159.0</td>\n      <td>94.7329</td>\n    </tr>\n    <tr>\n      <th rowspan=\"2\" valign=\"top\">Bahia</th>\n      <th>Onshore</th>\n      <td>7356</td>\n      <td>6843.8661</td>\n      <td>5988.332034</td>\n      <td>5912.199180</td>\n      <td>5594.854979</td>\n      <td>6336.554473</td>\n      <td>5115.812770</td>\n      <td>6238.336790</td>\n      <td>6482.395650</td>\n      <td>5672.0</td>\n      <td>-12.5015</td>\n    </tr>\n    <tr>\n      <th>Offshore</th>\n      <td>26161</td>\n      <td>23708.1683</td>\n      <td>24289.975467</td>\n      <td>20374.186229</td>\n      <td>17970.912247</td>\n      <td>11948.820710</td>\n      <td>9690.142128</td>\n      <td>8296.289173</td>\n      <td>5800.692768</td>\n      <td>3968.0</td>\n      <td>-31.5944</td>\n    </tr>\n    <tr>\n      <th rowspan=\"2\" valign=\"top\">Espírito Santo</th>\n      <th>Onshore</th>\n      <td>587</td>\n      <td>716.8581</td>\n      <td>535.312105</td>\n      <td>568.364715</td>\n      <td>592.611862</td>\n      <td>556.454279</td>\n      <td>675.012399</td>\n      <td>404.826268</td>\n      <td>233.366794</td>\n      <td>150.0</td>\n      <td>-35.7235</td>\n    </tr>\n    <tr>\n      <th>Offshore</th>\n      <td>44025</td>\n      <td>43630.9721</td>\n      <td>42589.737557</td>\n      <td>42862.986840</td>\n      <td>43687.364201</td>\n      <td>36907.154077</td>\n      <td>31793.580057</td>\n      <td>30690.431293</td>\n      <td>31525.294524</td>\n      <td>31566.0</td>\n      <td>0.12912</td>\n    </tr>\n    <tr>\n      <th>Rio de Janeiro3</th>\n      <th>Offshore</th>\n      <td>220506</td>\n      <td>249983.8568</td>\n      <td>246438.385470</td>\n      <td>257192.477821</td>\n      <td>274684.618543</td>\n      <td>256206.525310</td>\n      <td>230848.697736</td>\n      <td>223840.510197</td>\n      <td>230674.738935</td>\n      <td>233896.0</td>\n      <td>1.39645</td>\n    </tr>\n    <tr>\n      <th>São Paulo4</th>\n      <th>Offshore</th>\n      <td>49373</td>\n      <td>58882.3934</td>\n      <td>60336.173351</td>\n      <td>56406.023991</td>\n      <td>54418.452253</td>\n      <td>49401.091793</td>\n      <td>39268.505218</td>\n      <td>36998.093464</td>\n      <td>28443.969036</td>\n      <td>23931.0</td>\n      <td>-15.8662</td>\n    </tr>\n    <tr>\n      <th rowspan=\"2\" valign=\"top\">Paraná5</th>\n      <th>Onshore</th>\n      <td>134</td>\n      <td>149.1059</td>\n      <td>0.000000</td>\n      <td>0.000000</td>\n      <td>0.000000</td>\n      <td>0.000000</td>\n      <td>0.000000</td>\n      <td>0.000000</td>\n      <td>0.000000</td>\n      <td>0.0</td>\n      <td>..</td>\n    </tr>\n    <tr>\n      <th>Offshore</th>\n      <td>904</td>\n      <td>913.0787</td>\n      <td>1061.758783</td>\n      <td>1057.653208</td>\n      <td>0.000000</td>\n      <td>0.000000</td>\n      <td>0.000000</td>\n      <td>0.000000</td>\n      <td>0.000000</td>\n      <td>0.0</td>\n      <td>..</td>\n    </tr>\n    <tr>\n      <th>Santa Catarina6</th>\n      <th>Offshore</th>\n      <td>230</td>\n      <td>229.9437</td>\n      <td>229.732299</td>\n      <td>229.943710</td>\n      <td>0.000000</td>\n      <td>0.000000</td>\n      <td>0.000000</td>\n      <td>0.000000</td>\n      <td>0.000000</td>\n      <td>0.0</td>\n      <td>..</td>\n    </tr>\n  </tbody>\n</table>\n</div>"
     },
     "metadata": {},
     "execution_count": 181
    }
   ],
   "source": [
    "proved_reserves.df"
   ]
  },
  {
   "cell_type": "code",
   "execution_count": null,
   "metadata": {},
   "outputs": [],
   "source": [
    "domestic_sale = MyDataFrame(pd.read_excel(r'data_set/table-1_25.xls', header = [0,2,3], index_col = [0]))\n",
    "domestic_sale.drop_last_column()\n",
    "domestic_sale.unit = '10⁶ m³'"
   ]
  },
  {
   "cell_type": "code",
   "execution_count": null,
   "metadata": {},
   "outputs": [],
   "source": [
    "balance = MyDataFrame(pd.read_excel(r'data_set/table-1_26.xls', header = [0,2,3], index_col = [0]))\n",
    "balance.drop_last_column()"
   ]
  },
  {
   "cell_type": "code",
   "execution_count": null,
   "metadata": {},
   "outputs": [],
   "source": [
    "production = MyDataFrame(pd.read_excel(r'data_set/table-1_5.xls', header = [0,2,3], index_col = [0,1]))\n",
    "production.drop_last_column()\n",
    "production.unit='10⁶ m³'"
   ]
  },
  {
   "cell_type": "code",
   "execution_count": null,
   "metadata": {},
   "outputs": [],
   "source": [
    "gas_type = MyDataFrame(pd.read_excel(r'data_set/table-1_6.xls', header = [0,2,3], index_col = [0,1]))\n",
    "gas_type.drop_last_column()\n",
    "gas_type.unit='10⁶ m³'"
   ]
  },
  {
   "cell_type": "code",
   "execution_count": null,
   "metadata": {},
   "outputs": [],
   "source": [
    "avg_price = MyDataFrame(pd.read_excel(r'data_set/anuario-2020-tabela-2_24.xls',  header = [0,2,3,4], index_col = [0]), drop_level=False)\n",
    "avg_price.drop_levels()\n",
    "avg_price.unit='US$/mil m³'"
   ]
  },
  {
   "cell_type": "code",
   "execution_count": null,
   "metadata": {},
   "outputs": [],
   "source": [
    "energy_matrix = pd.read_csv(r'data_set/GeracaoFonte.csv')\n",
    "energy_matrix.columns = ['ID', 'Energy Type', 'GWh', 'Month', 'Year', 'dthProx']\n",
    "energy_matrix = pd.pivot_table(energy_matrix, values='GWh', index=['Energy Type'], columns=['Year', 'Month'])"
   ]
  },
  {
   "cell_type": "code",
   "execution_count": null,
   "metadata": {},
   "outputs": [],
   "source": [
    "bra_ind = pd.read_csv(r'data_set/API_BRA_DS2_en_csv_v2_1221399.csv', skiprows=[0,1,2,3])"
   ]
  }
 ]
}